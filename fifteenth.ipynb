{
 "cells": [
  {
   "cell_type": "code",
   "execution_count": 29,
   "metadata": {
    "scrolled": true
   },
   "outputs": [],
   "source": [
    "import cv2"
   ]
  },
  {
   "cell_type": "code",
   "execution_count": 1,
   "metadata": {
    "scrolled": true
   },
   "outputs": [
    {
     "name": "stdout",
     "output_type": "stream",
     "text": [
      "Requirement already satisfied: opencv-python in /home/bitai/anaconda3/lib/python3.7/site-packages (4.3.0.36)\r\n",
      "Requirement already satisfied: numpy>=1.14.5 in /home/bitai/anaconda3/lib/python3.7/site-packages (from opencv-python) (1.18.1)\r\n"
     ]
    }
   ],
   "source": [
    "# !pip install opencv-python"
   ]
  },
  {
   "cell_type": "code",
   "execution_count": 7,
   "metadata": {},
   "outputs": [
    {
     "name": "stdout",
     "output_type": "stream",
     "text": [
      "Found existing installation: opencv-python 4.3.0.36\n",
      "Uninstalling opencv-python-4.3.0.36:\n",
      "  Would remove:\n",
      "    /home/bitai/anaconda3/lib/python3.7/site-packages/opencv_python-4.3.0.36.dist-info/*\n",
      "    /home/bitai/anaconda3/lib/python3.7/site-packages/opencv_python.libs/libQtCore-6b7bca35.so.4.8.7\n",
      "    /home/bitai/anaconda3/lib/python3.7/site-packages/opencv_python.libs/libQtGui-a00f4bbc.so.4.8.7\n",
      "    /home/bitai/anaconda3/lib/python3.7/site-packages/opencv_python.libs/libQtTest-6d3ddc1c.so.4.8.7\n",
      "    /home/bitai/anaconda3/lib/python3.7/site-packages/opencv_python.libs/libXcursor-1a09904e.so.1.0.2\n",
      "    /home/bitai/anaconda3/lib/python3.7/site-packages/opencv_python.libs/libXfixes-d274cb03.so.3.1.0\n",
      "    /home/bitai/anaconda3/lib/python3.7/site-packages/opencv_python.libs/libXi-e28fba09.so.6.1.0\n",
      "    /home/bitai/anaconda3/lib/python3.7/site-packages/opencv_python.libs/libXinerama-b7a62e01.so.1.0.0\n",
      "    /home/bitai/anaconda3/lib/python3.7/site-packages/opencv_python.libs/libXrandr-1b5fae8f.so.2.2.0\n",
      "    /home/bitai/anaconda3/lib/python3.7/site-packages/opencv_python.libs/libavcodec-681a2255.so.58.93.100\n",
      "    /home/bitai/anaconda3/lib/python3.7/site-packages/opencv_python.libs/libavformat-fed7ce93.so.58.47.100\n",
      "    /home/bitai/anaconda3/lib/python3.7/site-packages/opencv_python.libs/libavutil-bedca4f8.so.56.55.100\n",
      "    /home/bitai/anaconda3/lib/python3.7/site-packages/opencv_python.libs/libbz2-a273e504.so.1.0.6\n",
      "    /home/bitai/anaconda3/lib/python3.7/site-packages/opencv_python.libs/libcrypto-d542f53a.so.1.1\n",
      "    /home/bitai/anaconda3/lib/python3.7/site-packages/opencv_python.libs/libexpat-3e0b9453.so.1.6.0\n",
      "    /home/bitai/anaconda3/lib/python3.7/site-packages/opencv_python.libs/libfontconfig-42c558d2.so.1.11.1\n",
      "    /home/bitai/anaconda3/lib/python3.7/site-packages/opencv_python.libs/libfreetype-8d3bcff4.so.6.14.0\n",
      "    /home/bitai/anaconda3/lib/python3.7/site-packages/opencv_python.libs/libpng15-c2ffaf3d.so.15.13.0\n",
      "    /home/bitai/anaconda3/lib/python3.7/site-packages/opencv_python.libs/libssl-5dfca392.so.1.1\n",
      "    /home/bitai/anaconda3/lib/python3.7/site-packages/opencv_python.libs/libswresample-e69eb03e.so.3.8.100\n",
      "    /home/bitai/anaconda3/lib/python3.7/site-packages/opencv_python.libs/libswscale-59c13675.so.5.8.100\n",
      "    /home/bitai/anaconda3/lib/python3.7/site-packages/opencv_python.libs/libuuid-506df98b.so.1.3.0\n",
      "    /home/bitai/anaconda3/lib/python3.7/site-packages/opencv_python.libs/libvpx-8ed2f57e.so.6.2.0\n",
      "    /home/bitai/anaconda3/lib/python3.7/site-packages/opencv_python.libs/libz-d8a329de.so.1.2.7\n",
      "Proceed (y/n)? ^C\n",
      "\u001b[31mERROR: Operation cancelled by user\u001b[0m\n"
     ]
    }
   ],
   "source": [
    "# !pip uninstall opencv-python"
   ]
  },
  {
   "cell_type": "code",
   "execution_count": 24,
   "metadata": {},
   "outputs": [],
   "source": [
    "import cv2"
   ]
  },
  {
   "cell_type": "code",
   "execution_count": 27,
   "metadata": {},
   "outputs": [
    {
     "name": "stdout",
     "output_type": "stream",
     "text": [
      "Help on package cv2:\n",
      "\n",
      "NAME\n",
      "    cv2\n",
      "\n",
      "PACKAGE CONTENTS\n",
      "\n",
      "\n",
      "FILE\n",
      "    (built-in)\n",
      "\n",
      "\n"
     ]
    }
   ],
   "source": [
    "help(cv2)"
   ]
  },
  {
   "cell_type": "code",
   "execution_count": 28,
   "metadata": {},
   "outputs": [
    {
     "name": "stdout",
     "output_type": "stream",
     "text": [
      "4.3.0\n"
     ]
    }
   ],
   "source": [
    "print(cv2.__version__)"
   ]
  },
  {
   "cell_type": "code",
   "execution_count": 1,
   "metadata": {},
   "outputs": [],
   "source": [
    "import cv2"
   ]
  },
  {
   "cell_type": "code",
   "execution_count": 2,
   "metadata": {},
   "outputs": [
    {
     "name": "stdout",
     "output_type": "stream",
     "text": [
      "4.3.0\n"
     ]
    }
   ],
   "source": [
    "print(cv2.__version__)"
   ]
  },
  {
   "cell_type": "code",
   "execution_count": 3,
   "metadata": {},
   "outputs": [],
   "source": [
    "import numpy as np"
   ]
  },
  {
   "cell_type": "code",
   "execution_count": 5,
   "metadata": {},
   "outputs": [
    {
     "name": "stdout",
     "output_type": "stream",
     "text": [
      "[[4 4 1 9 0 9 4]\n",
      " [9 1 8 3 1 3 2]\n",
      " [2 7 2 6 5 1 8]\n",
      " [8 0 7 6 7 7 1]\n",
      " [7 0 3 8 6 6 3]\n",
      " [9 1 5 0 8 6 2]\n",
      " [1 9 2 2 0 4 2]]\n"
     ]
    }
   ],
   "source": [
    "img = np.random.randint(0,10,(7,7))\n",
    "\n",
    "print(img)"
   ]
  },
  {
   "cell_type": "code",
   "execution_count": 6,
   "metadata": {},
   "outputs": [
    {
     "name": "stdout",
     "output_type": "stream",
     "text": [
      "[[1. 1. 1. 1. 1. 1. 1.]\n",
      " [1. 1. 1. 1. 1. 1. 1.]\n",
      " [1. 1. 1. 1. 1. 1. 1.]\n",
      " [1. 1. 1. 1. 1. 1. 1.]\n",
      " [1. 1. 1. 1. 1. 1. 1.]\n",
      " [1. 1. 1. 1. 1. 1. 1.]\n",
      " [1. 1. 1. 1. 1. 1. 1.]]\n"
     ]
    }
   ],
   "source": [
    "img_np = np.ones([7,7])\n",
    "print(img_np)"
   ]
  },
  {
   "cell_type": "code",
   "execution_count": 8,
   "metadata": {},
   "outputs": [
    {
     "name": "stdout",
     "output_type": "stream",
     "text": [
      "[-1  0  1]\n"
     ]
    }
   ],
   "source": [
    "kernel = np.array([-1, 0, 1 ])\n",
    "print(kernel)"
   ]
  },
  {
   "cell_type": "code",
   "execution_count": 14,
   "metadata": {},
   "outputs": [
    {
     "name": "stdout",
     "output_type": "stream",
     "text": [
      "<class 'numpy.ndarray'>\n",
      "<class 'numpy.ndarray'>\n"
     ]
    }
   ],
   "source": [
    "print(type(kernel))\n",
    "print(type(img_np))"
   ]
  },
  {
   "cell_type": "code",
   "execution_count": 18,
   "metadata": {},
   "outputs": [
    {
     "name": "stdout",
     "output_type": "stream",
     "text": [
      "[[1. 1. 1. 1. 1. 1. 1.]\n",
      " [1. 1. 1. 1. 1. 1. 1.]\n",
      " [1. 1. 1. 1. 1. 1. 1.]\n",
      " [1. 1. 1. 1. 1. 1. 1.]\n",
      " [1. 1. 1. 1. 1. 1. 1.]\n",
      " [1. 1. 1. 1. 1. 1. 1.]\n",
      " [1. 1. 1. 1. 1. 1. 1.]]\n"
     ]
    }
   ],
   "source": [
    "img_cv = cv2.resize(img_np, (7,7))\n",
    "                    \n",
    "print(img_cv)"
   ]
  },
  {
   "cell_type": "code",
   "execution_count": 17,
   "metadata": {},
   "outputs": [
    {
     "name": "stdout",
     "output_type": "stream",
     "text": [
      "[[-1]\n",
      " [ 0]\n",
      " [ 1]]\n"
     ]
    }
   ],
   "source": [
    "kernel = cv2.resize(kernel, (1, 3))\n",
    "print(kernel)"
   ]
  },
  {
   "cell_type": "code",
   "execution_count": 21,
   "metadata": {},
   "outputs": [
    {
     "name": "stdout",
     "output_type": "stream",
     "text": [
      "<class 'numpy.ndarray'>\n",
      "<class 'numpy.ndarray'>\n"
     ]
    }
   ],
   "source": [
    "print(type(img_cv))\n",
    "print(type(kernel))"
   ]
  },
  {
   "cell_type": "code",
   "execution_count": 25,
   "metadata": {},
   "outputs": [
    {
     "name": "stdout",
     "output_type": "stream",
     "text": [
      "[[ 0.  0.  0.  0.  0.  0.  0.]\n",
      " [ 1.  0.  0.  0.  0.  0.  0.]\n",
      " [ 0.  0.  0.  1.  0.  0.  0.]\n",
      " [ 0.  0.  0.  0.  0.  0.  0.]\n",
      " [ 0.  0.  0. -1.  0.  0.  0.]\n",
      " [ 0.  0.  0.  0.  0.  0.  2.]\n",
      " [ 0.  0.  0.  0.  0.  0.  0.]]\n"
     ]
    }
   ],
   "source": [
    "conv_test = cv2.filter2D(img_cv, -1 , kernel)\n",
    "\n",
    "print(conv_test)"
   ]
  },
  {
   "cell_type": "code",
   "execution_count": 30,
   "metadata": {},
   "outputs": [
    {
     "name": "stdout",
     "output_type": "stream",
     "text": [
      "[[-1]\n",
      " [ 0]\n",
      " [ 1]]\n"
     ]
    }
   ],
   "source": [
    "print(kernel)"
   ]
  },
  {
   "cell_type": "code",
   "execution_count": 26,
   "metadata": {
    "scrolled": true
   },
   "outputs": [
    {
     "name": "stdout",
     "output_type": "stream",
     "text": [
      "[[0. 1. 1. 1. 1. 1. 1.]\n",
      " [1. 1. 1. 1. 1. 1. 1.]\n",
      " [1. 1. 1. 1. 1. 1. 1.]\n",
      " [1. 1. 1. 2. 1. 1. 1.]\n",
      " [1. 1. 1. 1. 1. 1. 1.]\n",
      " [1. 1. 1. 1. 1. 1. 1.]\n",
      " [1. 1. 1. 1. 1. 1. 3.]]\n"
     ]
    }
   ],
   "source": [
    "print(img_cv)"
   ]
  },
  {
   "cell_type": "code",
   "execution_count": 24,
   "metadata": {},
   "outputs": [
    {
     "name": "stdout",
     "output_type": "stream",
     "text": [
      "[[ 0.  0.  0.  0.  0.  0.  0.]\n",
      " [ 1.  0.  0.  0.  0.  0.  0.]\n",
      " [ 0.  0.  0.  1.  0.  0.  0.]\n",
      " [ 0.  0.  0.  0.  0.  0.  0.]\n",
      " [ 0.  0.  0. -1.  0.  0.  0.]\n",
      " [ 0.  0.  0.  0.  0.  0.  2.]\n",
      " [ 0.  0.  0.  0.  0.  0.  0.]]\n"
     ]
    }
   ],
   "source": [
    "img_cv[0][0] = 0\n",
    "img_cv[3][3] = 2\n",
    "img_cv[6][6] = 3\n",
    "\n",
    "# filter2D - Convolution이 결국\n",
    "# 라플라스 변환과 푸리에 변환에 관계를 가지고 있기 때문이다.\n",
    "conv_test = cv2.filter2D(img_cv, -1, kernel)\n",
    "\n",
    "print(conv_test)"
   ]
  },
  {
   "cell_type": "code",
   "execution_count": 27,
   "metadata": {},
   "outputs": [],
   "source": [
    "# sudo apt-get install ctags cscope"
   ]
  },
  {
   "cell_type": "code",
   "execution_count": null,
   "metadata": {},
   "outputs": [],
   "source": [
    "# 라플라스 변환 -> 전달 함수를 얻기 위해 계산함\n",
    "# 입력 대 출력비를 구하겠다.\n",
    "# 입력이 10, 출력이 7, 입출력비: 7/10\n",
    "# 입력이 y'' = y' +3y +2\n",
    "# 출력이 y' = 3e^3x => y= e^3x\n",
    "# 라플라스 변환 통해 입출력비를 게산할 수 있게 된다.\n",
    "# integral 0 ~ inf f(t)e^-st dt\n",
    "\n",
    "# Low Pass Filter(LPF 설계법) - 1D Convolution\n",
    "# 전달함수 -> 실ㄹ제 값을 필터링 하는 방법."
   ]
  },
  {
   "cell_type": "code",
   "execution_count": 1,
   "metadata": {},
   "outputs": [],
   "source": [
    "from keras.models import Sequential\n",
    "from keras.layers import Conv2D, MaxPool2D, Flatten, Dense"
   ]
  },
  {
   "cell_type": "code",
   "execution_count": 2,
   "metadata": {},
   "outputs": [],
   "source": [
    "classifier = Sequential()\n",
    "classifier.add(\n",
    "    Conv2D(\n",
    "        32, (3, 3), \n",
    "        input_shape = (64, 64, 3), \n",
    "        activation = 'relu'\n",
    "    )\n",
    ")\n",
    "classifier.add(\n",
    "    Conv2D(\n",
    "        32, (3, 3), \n",
    "        activation = 'relu'\n",
    "    )\n",
    ")\n",
    "classifier.add(\n",
    "    Conv2D(\n",
    "        32, (3, 3), \n",
    "        activation = 'relu'\n",
    "    )\n",
    ")\n",
    "classifier.add(MaxPool2D(pool_size = (2, 2)))\n",
    "classifier.add(MaxPool2D(pool_size = (2, 2)))\n",
    "classifier.add(Flatten())"
   ]
  },
  {
   "cell_type": "code",
   "execution_count": 3,
   "metadata": {},
   "outputs": [
    {
     "name": "stdout",
     "output_type": "stream",
     "text": [
      "Model: \"sequential\"\n",
      "_________________________________________________________________\n",
      "Layer (type)                 Output Shape              Param #   \n",
      "=================================================================\n",
      "conv2d (Conv2D)              (None, 62, 62, 32)        896       \n",
      "_________________________________________________________________\n",
      "conv2d_1 (Conv2D)            (None, 60, 60, 32)        9248      \n",
      "_________________________________________________________________\n",
      "conv2d_2 (Conv2D)            (None, 58, 58, 32)        9248      \n",
      "_________________________________________________________________\n",
      "max_pooling2d (MaxPooling2D) (None, 29, 29, 32)        0         \n",
      "_________________________________________________________________\n",
      "max_pooling2d_1 (MaxPooling2 (None, 14, 14, 32)        0         \n",
      "_________________________________________________________________\n",
      "flatten (Flatten)            (None, 6272)              0         \n",
      "=================================================================\n",
      "Total params: 19,392\n",
      "Trainable params: 19,392\n",
      "Non-trainable params: 0\n",
      "_________________________________________________________________\n"
     ]
    }
   ],
   "source": [
    "classifier.summary()"
   ]
  },
  {
   "cell_type": "code",
   "execution_count": 4,
   "metadata": {},
   "outputs": [],
   "source": [
    "classifier.add(Dense(128, activation='relu'))\n",
    "# classifier.add(Dense(128, activation='relu'))\n",
    "# classifier.add(Dense(128, activation='relu'))\n",
    "# classifier.add(Dense(128, activation='relu'))\n",
    "classifier.add(Dense(1, activation= 'sigmoid'))\n",
    "classifier.compile(optimizer='adam', loss='binary_crossentropy', metrics=['accuracy'])"
   ]
  },
  {
   "cell_type": "code",
   "execution_count": 5,
   "metadata": {},
   "outputs": [],
   "source": [
    "from keras.preprocessing.image import ImageDataGenerator\n",
    "\n",
    "train_gen = ImageDataGenerator(\n",
    "    rescale = 1.0 / 255,\n",
    "    shear_range = 0.2,\n",
    "    zoom_range = 0.2,\n",
    "    horizontal_flip = True\n",
    ")\n",
    "\n",
    "test_gen = ImageDataGenerator(rescale = 1.0 / 255)"
   ]
  },
  {
   "cell_type": "code",
   "execution_count": 6,
   "metadata": {},
   "outputs": [
    {
     "name": "stdout",
     "output_type": "stream",
     "text": [
      "cats  dogs\r\n"
     ]
    }
   ],
   "source": [
    "!ls Applied-Deep-Learning-with-Keras/Lesson07/Datasets/dataset/training_set"
   ]
  },
  {
   "cell_type": "code",
   "execution_count": 7,
   "metadata": {},
   "outputs": [
    {
     "name": "stdout",
     "output_type": "stream",
     "text": [
      "Found 20000 images belonging to 2 classes.\n",
      "Found 5000 images belonging to 2 classes.\n"
     ]
    }
   ],
   "source": [
    "trainSet = train_gen.flow_from_directory(\n",
    "    'Applied-Deep-Learning-with-Keras/Lesson07/' +\n",
    "    'Datasets/dataset/training_set',\n",
    "    target_size = (64, 64),\n",
    "    batch_size = 32,\n",
    "    class_mode = 'binary'\n",
    ")\n",
    "testSet = test_gen.flow_from_directory(\n",
    "    'Applied-Deep-Learning-with-Keras/Lesson07/' +\n",
    "    'Datasets/dataset/test_set',\n",
    "    target_size = (64, 64),\n",
    "    batch_size = 32,\n",
    "    class_mode = 'binary'\n",
    ")"
   ]
  },
  {
   "cell_type": "code",
   "execution_count": 12,
   "metadata": {
    "scrolled": true
   },
   "outputs": [
    {
     "name": "stdout",
     "output_type": "stream",
     "text": [
      "Epoch 1/200\n",
      "100/100 [==============================] - 13s 129ms/step - loss: 0.2048 - accuracy: 0.9144 - val_loss: 0.4682 - val_accuracy: 0.8150\n",
      "Epoch 2/200\n",
      "100/100 [==============================] - 13s 129ms/step - loss: 0.1828 - accuracy: 0.9225 - val_loss: 0.4429 - val_accuracy: 0.8388\n",
      "Epoch 3/200\n",
      "100/100 [==============================] - 13s 129ms/step - loss: 0.1829 - accuracy: 0.9275 - val_loss: 0.3459 - val_accuracy: 0.8750\n",
      "Epoch 4/200\n",
      "100/100 [==============================] - 13s 128ms/step - loss: 0.1936 - accuracy: 0.9247 - val_loss: 0.4965 - val_accuracy: 0.8200\n",
      "Epoch 5/200\n",
      "100/100 [==============================] - 13s 130ms/step - loss: 0.1920 - accuracy: 0.9156 - val_loss: 0.4089 - val_accuracy: 0.8462\n",
      "Epoch 6/200\n",
      "100/100 [==============================] - 13s 129ms/step - loss: 0.1843 - accuracy: 0.9237 - val_loss: 0.4388 - val_accuracy: 0.8288\n",
      "Epoch 7/200\n",
      "100/100 [==============================] - 13s 129ms/step - loss: 0.2065 - accuracy: 0.9175 - val_loss: 0.3865 - val_accuracy: 0.8438\n",
      "Epoch 8/200\n",
      "100/100 [==============================] - 13s 129ms/step - loss: 0.1905 - accuracy: 0.9169 - val_loss: 0.4238 - val_accuracy: 0.8475\n",
      "Epoch 9/200\n",
      "100/100 [==============================] - 13s 128ms/step - loss: 0.1815 - accuracy: 0.9241 - val_loss: 0.3691 - val_accuracy: 0.8612\n",
      "Epoch 10/200\n",
      "100/100 [==============================] - 13s 129ms/step - loss: 0.1907 - accuracy: 0.9247 - val_loss: 0.4778 - val_accuracy: 0.8363\n",
      "Epoch 11/200\n",
      "100/100 [==============================] - 13s 129ms/step - loss: 0.1956 - accuracy: 0.9197 - val_loss: 0.4477 - val_accuracy: 0.8300\n",
      "Epoch 12/200\n",
      "100/100 [==============================] - 13s 130ms/step - loss: 0.1703 - accuracy: 0.9319 - val_loss: 0.4384 - val_accuracy: 0.8500\n",
      "Epoch 13/200\n",
      "100/100 [==============================] - 13s 131ms/step - loss: 0.1864 - accuracy: 0.9237 - val_loss: 0.5086 - val_accuracy: 0.8225\n",
      "Epoch 14/200\n",
      "100/100 [==============================] - 13s 132ms/step - loss: 0.1810 - accuracy: 0.9256 - val_loss: 0.4844 - val_accuracy: 0.8413\n",
      "Epoch 15/200\n",
      "100/100 [==============================] - 13s 132ms/step - loss: 0.1759 - accuracy: 0.9272 - val_loss: 0.4596 - val_accuracy: 0.8512\n",
      "Epoch 16/200\n",
      "100/100 [==============================] - 13s 132ms/step - loss: 0.1925 - accuracy: 0.9228 - val_loss: 0.4529 - val_accuracy: 0.8375\n",
      "Epoch 17/200\n",
      "100/100 [==============================] - 13s 129ms/step - loss: 0.1760 - accuracy: 0.9272 - val_loss: 0.4795 - val_accuracy: 0.8313\n",
      "Epoch 18/200\n",
      "100/100 [==============================] - 13s 131ms/step - loss: 0.1845 - accuracy: 0.9269 - val_loss: 0.4541 - val_accuracy: 0.8375\n",
      "Epoch 19/200\n",
      "100/100 [==============================] - 13s 131ms/step - loss: 0.1647 - accuracy: 0.9350 - val_loss: 0.4413 - val_accuracy: 0.8350\n",
      "Epoch 20/200\n",
      "100/100 [==============================] - 13s 130ms/step - loss: 0.1747 - accuracy: 0.9300 - val_loss: 0.4974 - val_accuracy: 0.8375\n",
      "Epoch 21/200\n",
      "100/100 [==============================] - 13s 130ms/step - loss: 0.1766 - accuracy: 0.9284 - val_loss: 0.4817 - val_accuracy: 0.8512\n",
      "Epoch 22/200\n",
      "100/100 [==============================] - 13s 130ms/step - loss: 0.1860 - accuracy: 0.9228 - val_loss: 0.4584 - val_accuracy: 0.8500\n",
      "Epoch 23/200\n",
      "100/100 [==============================] - 13s 131ms/step - loss: 0.1726 - accuracy: 0.9316 - val_loss: 0.4435 - val_accuracy: 0.8512\n",
      "Epoch 24/200\n",
      "100/100 [==============================] - 13s 127ms/step - loss: 0.1668 - accuracy: 0.9294 - val_loss: 0.4789 - val_accuracy: 0.8462\n",
      "Epoch 25/200\n",
      "100/100 [==============================] - 13s 130ms/step - loss: 0.1865 - accuracy: 0.9241 - val_loss: 0.4987 - val_accuracy: 0.8263\n",
      "Epoch 26/200\n",
      "100/100 [==============================] - 13s 130ms/step - loss: 0.1863 - accuracy: 0.9256 - val_loss: 0.3886 - val_accuracy: 0.8650\n",
      "Epoch 27/200\n",
      "100/100 [==============================] - 13s 130ms/step - loss: 0.1576 - accuracy: 0.9369 - val_loss: 0.5220 - val_accuracy: 0.8288\n",
      "Epoch 28/200\n",
      "100/100 [==============================] - 13s 128ms/step - loss: 0.1948 - accuracy: 0.9191 - val_loss: 0.4116 - val_accuracy: 0.8413\n",
      "Epoch 29/200\n",
      "100/100 [==============================] - 13s 128ms/step - loss: 0.1714 - accuracy: 0.9278 - val_loss: 0.4531 - val_accuracy: 0.8400\n",
      "Epoch 30/200\n",
      "100/100 [==============================] - 13s 128ms/step - loss: 0.1536 - accuracy: 0.9400 - val_loss: 0.4331 - val_accuracy: 0.8587\n",
      "Epoch 31/200\n",
      "100/100 [==============================] - 13s 128ms/step - loss: 0.1799 - accuracy: 0.9219 - val_loss: 0.5391 - val_accuracy: 0.8163\n",
      "Epoch 32/200\n",
      "100/100 [==============================] - 13s 128ms/step - loss: 0.1646 - accuracy: 0.9300 - val_loss: 0.4405 - val_accuracy: 0.8487\n",
      "Epoch 33/200\n",
      "100/100 [==============================] - 13s 129ms/step - loss: 0.1835 - accuracy: 0.9247 - val_loss: 0.4686 - val_accuracy: 0.8338\n",
      "Epoch 34/200\n",
      "100/100 [==============================] - 13s 128ms/step - loss: 0.1674 - accuracy: 0.9359 - val_loss: 0.5478 - val_accuracy: 0.8263\n",
      "Epoch 35/200\n",
      "100/100 [==============================] - 13s 129ms/step - loss: 0.1807 - accuracy: 0.9275 - val_loss: 0.4074 - val_accuracy: 0.8662\n",
      "Epoch 36/200\n",
      "100/100 [==============================] - 13s 128ms/step - loss: 0.1691 - accuracy: 0.9319 - val_loss: 0.4148 - val_accuracy: 0.8500\n",
      "Epoch 37/200\n",
      "100/100 [==============================] - 13s 129ms/step - loss: 0.1679 - accuracy: 0.9303 - val_loss: 0.4577 - val_accuracy: 0.8450\n",
      "Epoch 38/200\n",
      "100/100 [==============================] - 13s 129ms/step - loss: 0.1663 - accuracy: 0.9331 - val_loss: 0.4589 - val_accuracy: 0.8450\n",
      "Epoch 39/200\n",
      "100/100 [==============================] - 13s 130ms/step - loss: 0.1517 - accuracy: 0.9419 - val_loss: 0.4425 - val_accuracy: 0.8612\n",
      "Epoch 40/200\n",
      "100/100 [==============================] - 13s 130ms/step - loss: 0.1671 - accuracy: 0.9306 - val_loss: 0.4179 - val_accuracy: 0.8537\n",
      "Epoch 41/200\n",
      "100/100 [==============================] - 13s 131ms/step - loss: 0.1801 - accuracy: 0.9266 - val_loss: 0.5385 - val_accuracy: 0.8225\n",
      "Epoch 42/200\n",
      "100/100 [==============================] - 13s 130ms/step - loss: 0.1702 - accuracy: 0.9369 - val_loss: 0.4138 - val_accuracy: 0.8587\n",
      "Epoch 43/200\n",
      "100/100 [==============================] - 13s 130ms/step - loss: 0.1760 - accuracy: 0.9253 - val_loss: 0.4005 - val_accuracy: 0.8662\n",
      "Epoch 44/200\n",
      "100/100 [==============================] - 13s 129ms/step - loss: 0.1551 - accuracy: 0.9400 - val_loss: 0.4413 - val_accuracy: 0.8712\n",
      "Epoch 45/200\n",
      "100/100 [==============================] - 13s 129ms/step - loss: 0.1694 - accuracy: 0.9294 - val_loss: 0.4819 - val_accuracy: 0.8350\n",
      "Epoch 46/200\n",
      "100/100 [==============================] - 13s 129ms/step - loss: 0.1603 - accuracy: 0.9359 - val_loss: 0.5231 - val_accuracy: 0.8475\n",
      "Epoch 47/200\n",
      "100/100 [==============================] - 13s 130ms/step - loss: 0.1652 - accuracy: 0.9322 - val_loss: 0.4774 - val_accuracy: 0.8438\n",
      "Epoch 48/200\n",
      "100/100 [==============================] - 13s 130ms/step - loss: 0.1644 - accuracy: 0.9400 - val_loss: 0.4914 - val_accuracy: 0.8450\n",
      "Epoch 49/200\n",
      "100/100 [==============================] - 13s 129ms/step - loss: 0.1690 - accuracy: 0.9378 - val_loss: 0.5156 - val_accuracy: 0.8350\n",
      "Epoch 50/200\n",
      "100/100 [==============================] - 13s 132ms/step - loss: 0.1628 - accuracy: 0.9291 - val_loss: 0.4278 - val_accuracy: 0.8512\n",
      "Epoch 51/200\n",
      "100/100 [==============================] - 13s 133ms/step - loss: 0.1559 - accuracy: 0.9359 - val_loss: 0.5139 - val_accuracy: 0.8562\n",
      "Epoch 52/200\n",
      "100/100 [==============================] - 13s 131ms/step - loss: 0.1562 - accuracy: 0.9388 - val_loss: 0.6809 - val_accuracy: 0.7875\n",
      "Epoch 53/200\n",
      "100/100 [==============================] - 13s 131ms/step - loss: 0.1695 - accuracy: 0.9306 - val_loss: 0.4696 - val_accuracy: 0.8612\n",
      "Epoch 54/200\n",
      "100/100 [==============================] - 13s 131ms/step - loss: 0.1525 - accuracy: 0.9400 - val_loss: 0.4631 - val_accuracy: 0.8525\n",
      "Epoch 55/200\n",
      "100/100 [==============================] - 13s 132ms/step - loss: 0.1479 - accuracy: 0.9431 - val_loss: 0.5446 - val_accuracy: 0.8425\n",
      "Epoch 56/200\n",
      "100/100 [==============================] - 13s 131ms/step - loss: 0.1553 - accuracy: 0.9413 - val_loss: 0.3967 - val_accuracy: 0.8587\n"
     ]
    },
    {
     "name": "stdout",
     "output_type": "stream",
     "text": [
      "Epoch 57/200\n",
      "100/100 [==============================] - 13s 132ms/step - loss: 0.1428 - accuracy: 0.9444 - val_loss: 0.4306 - val_accuracy: 0.8662\n",
      "Epoch 58/200\n",
      "100/100 [==============================] - 13s 129ms/step - loss: 0.1634 - accuracy: 0.9353 - val_loss: 0.4685 - val_accuracy: 0.8275\n",
      "Epoch 59/200\n",
      "100/100 [==============================] - 13s 128ms/step - loss: 0.1599 - accuracy: 0.9353 - val_loss: 0.4763 - val_accuracy: 0.8325\n",
      "Epoch 60/200\n",
      "100/100 [==============================] - 13s 128ms/step - loss: 0.1382 - accuracy: 0.9463 - val_loss: 0.5148 - val_accuracy: 0.8462\n",
      "Epoch 61/200\n",
      "100/100 [==============================] - 13s 130ms/step - loss: 0.1506 - accuracy: 0.9453 - val_loss: 0.3873 - val_accuracy: 0.8637\n",
      "Epoch 62/200\n",
      "100/100 [==============================] - 13s 128ms/step - loss: 0.1563 - accuracy: 0.9406 - val_loss: 0.5517 - val_accuracy: 0.8325\n",
      "Epoch 63/200\n",
      "100/100 [==============================] - 13s 128ms/step - loss: 0.1495 - accuracy: 0.9400 - val_loss: 0.4608 - val_accuracy: 0.8637\n",
      "Epoch 64/200\n",
      "100/100 [==============================] - 13s 130ms/step - loss: 0.1494 - accuracy: 0.9438 - val_loss: 0.4197 - val_accuracy: 0.8525\n",
      "Epoch 65/200\n",
      "100/100 [==============================] - 13s 128ms/step - loss: 0.1603 - accuracy: 0.9409 - val_loss: 0.4691 - val_accuracy: 0.8550\n",
      "Epoch 66/200\n",
      "100/100 [==============================] - 13s 128ms/step - loss: 0.1338 - accuracy: 0.9500 - val_loss: 0.5620 - val_accuracy: 0.8275\n",
      "Epoch 67/200\n",
      "100/100 [==============================] - 13s 129ms/step - loss: 0.1551 - accuracy: 0.9384 - val_loss: 0.4928 - val_accuracy: 0.8462\n",
      "Epoch 68/200\n",
      "100/100 [==============================] - 13s 130ms/step - loss: 0.1565 - accuracy: 0.9397 - val_loss: 0.4417 - val_accuracy: 0.8475\n",
      "Epoch 69/200\n",
      "100/100 [==============================] - 13s 129ms/step - loss: 0.1609 - accuracy: 0.9309 - val_loss: 0.4631 - val_accuracy: 0.8338\n",
      "Epoch 70/200\n",
      "100/100 [==============================] - 13s 129ms/step - loss: 0.1666 - accuracy: 0.9322 - val_loss: 0.5107 - val_accuracy: 0.8388\n",
      "Epoch 71/200\n",
      "100/100 [==============================] - 13s 129ms/step - loss: 0.1486 - accuracy: 0.9425 - val_loss: 0.4632 - val_accuracy: 0.8487\n",
      "Epoch 72/200\n",
      "100/100 [==============================] - 13s 129ms/step - loss: 0.1473 - accuracy: 0.9422 - val_loss: 0.5191 - val_accuracy: 0.8388\n",
      "Epoch 73/200\n",
      "100/100 [==============================] - 13s 132ms/step - loss: 0.1475 - accuracy: 0.9394 - val_loss: 0.5030 - val_accuracy: 0.8388\n",
      "Epoch 74/200\n",
      "100/100 [==============================] - 13s 130ms/step - loss: 0.1306 - accuracy: 0.9484 - val_loss: 0.4847 - val_accuracy: 0.8325\n",
      "Epoch 75/200\n",
      "100/100 [==============================] - 13s 128ms/step - loss: 0.1492 - accuracy: 0.9394 - val_loss: 0.4560 - val_accuracy: 0.8550\n",
      "Epoch 76/200\n",
      "100/100 [==============================] - 13s 128ms/step - loss: 0.1514 - accuracy: 0.9356 - val_loss: 0.5102 - val_accuracy: 0.8425\n",
      "Epoch 77/200\n",
      "100/100 [==============================] - 13s 129ms/step - loss: 0.1614 - accuracy: 0.9369 - val_loss: 0.4841 - val_accuracy: 0.8462\n",
      "Epoch 78/200\n",
      "100/100 [==============================] - 13s 128ms/step - loss: 0.1461 - accuracy: 0.9428 - val_loss: 0.5504 - val_accuracy: 0.8487\n",
      "Epoch 79/200\n",
      "100/100 [==============================] - 13s 130ms/step - loss: 0.1541 - accuracy: 0.9384 - val_loss: 0.4947 - val_accuracy: 0.8612\n",
      "Epoch 80/200\n",
      "100/100 [==============================] - 13s 128ms/step - loss: 0.1539 - accuracy: 0.9394 - val_loss: 0.4605 - val_accuracy: 0.8537\n",
      "Epoch 81/200\n",
      "100/100 [==============================] - 13s 128ms/step - loss: 0.1554 - accuracy: 0.9384 - val_loss: 0.4647 - val_accuracy: 0.8450\n",
      "Epoch 82/200\n",
      "100/100 [==============================] - 13s 129ms/step - loss: 0.1281 - accuracy: 0.9516 - val_loss: 0.5611 - val_accuracy: 0.8338\n",
      "Epoch 83/200\n",
      "100/100 [==============================] - 13s 128ms/step - loss: 0.1444 - accuracy: 0.9438 - val_loss: 0.6413 - val_accuracy: 0.8050\n",
      "Epoch 84/200\n",
      "100/100 [==============================] - 13s 128ms/step - loss: 0.1448 - accuracy: 0.9444 - val_loss: 0.4798 - val_accuracy: 0.8600\n",
      "Epoch 85/200\n",
      "100/100 [==============================] - 13s 129ms/step - loss: 0.1392 - accuracy: 0.9459 - val_loss: 0.5702 - val_accuracy: 0.8450\n",
      "Epoch 86/200\n",
      "100/100 [==============================] - 13s 128ms/step - loss: 0.1487 - accuracy: 0.9453 - val_loss: 0.5209 - val_accuracy: 0.8487\n",
      "Epoch 87/200\n",
      "100/100 [==============================] - 13s 128ms/step - loss: 0.1322 - accuracy: 0.9503 - val_loss: 0.4884 - val_accuracy: 0.8425\n",
      "Epoch 88/200\n",
      "100/100 [==============================] - 13s 128ms/step - loss: 0.1412 - accuracy: 0.9409 - val_loss: 0.4847 - val_accuracy: 0.8487\n",
      "Epoch 89/200\n",
      "100/100 [==============================] - 13s 128ms/step - loss: 0.1116 - accuracy: 0.9575 - val_loss: 0.5326 - val_accuracy: 0.8425\n",
      "Epoch 90/200\n",
      "100/100 [==============================] - 13s 128ms/step - loss: 0.1381 - accuracy: 0.9434 - val_loss: 0.5520 - val_accuracy: 0.8438\n",
      "Epoch 91/200\n",
      "100/100 [==============================] - 13s 128ms/step - loss: 0.1458 - accuracy: 0.9453 - val_loss: 0.6971 - val_accuracy: 0.8100\n",
      "Epoch 92/200\n",
      "100/100 [==============================] - 13s 128ms/step - loss: 0.1419 - accuracy: 0.9403 - val_loss: 0.4072 - val_accuracy: 0.8737\n",
      "Epoch 93/200\n",
      "100/100 [==============================] - 13s 128ms/step - loss: 0.1392 - accuracy: 0.9456 - val_loss: 0.4845 - val_accuracy: 0.8562\n",
      "Epoch 94/200\n",
      "100/100 [==============================] - 13s 128ms/step - loss: 0.1339 - accuracy: 0.9413 - val_loss: 0.5239 - val_accuracy: 0.8425\n",
      "Epoch 95/200\n",
      "100/100 [==============================] - 13s 128ms/step - loss: 0.1346 - accuracy: 0.9441 - val_loss: 0.4613 - val_accuracy: 0.8462\n",
      "Epoch 96/200\n",
      "100/100 [==============================] - 13s 127ms/step - loss: 0.1343 - accuracy: 0.9481 - val_loss: 0.4159 - val_accuracy: 0.8750\n",
      "Epoch 97/200\n",
      "100/100 [==============================] - 13s 128ms/step - loss: 0.1288 - accuracy: 0.9450 - val_loss: 0.4787 - val_accuracy: 0.8562\n",
      "Epoch 98/200\n",
      "100/100 [==============================] - 13s 127ms/step - loss: 0.1484 - accuracy: 0.9419 - val_loss: 0.4728 - val_accuracy: 0.8537\n",
      "Epoch 99/200\n",
      "100/100 [==============================] - 13s 129ms/step - loss: 0.1290 - accuracy: 0.9506 - val_loss: 0.6266 - val_accuracy: 0.8300\n",
      "Epoch 100/200\n",
      "100/100 [==============================] - 13s 128ms/step - loss: 0.1576 - accuracy: 0.9397 - val_loss: 0.5594 - val_accuracy: 0.8438\n",
      "Epoch 101/200\n",
      "100/100 [==============================] - 13s 128ms/step - loss: 0.1317 - accuracy: 0.9484 - val_loss: 0.4463 - val_accuracy: 0.8700\n",
      "Epoch 102/200\n",
      "100/100 [==============================] - 13s 128ms/step - loss: 0.1257 - accuracy: 0.9516 - val_loss: 0.4223 - val_accuracy: 0.8712\n",
      "Epoch 103/200\n",
      "100/100 [==============================] - 13s 131ms/step - loss: 0.1341 - accuracy: 0.9472 - val_loss: 0.4169 - val_accuracy: 0.8625\n",
      "Epoch 104/200\n",
      "100/100 [==============================] - 13s 129ms/step - loss: 0.1297 - accuracy: 0.9500 - val_loss: 0.4788 - val_accuracy: 0.8575\n",
      "Epoch 105/200\n",
      "100/100 [==============================] - 13s 128ms/step - loss: 0.1498 - accuracy: 0.9463 - val_loss: 0.4709 - val_accuracy: 0.8438\n",
      "Epoch 106/200\n",
      "100/100 [==============================] - 13s 128ms/step - loss: 0.1142 - accuracy: 0.9528 - val_loss: 0.6435 - val_accuracy: 0.8425\n",
      "Epoch 107/200\n",
      "100/100 [==============================] - 13s 128ms/step - loss: 0.1285 - accuracy: 0.9506 - val_loss: 0.4401 - val_accuracy: 0.8687\n",
      "Epoch 108/200\n",
      "100/100 [==============================] - 13s 128ms/step - loss: 0.1515 - accuracy: 0.9422 - val_loss: 0.4356 - val_accuracy: 0.8525\n",
      "Epoch 109/200\n",
      "100/100 [==============================] - 13s 129ms/step - loss: 0.1325 - accuracy: 0.9431 - val_loss: 0.5393 - val_accuracy: 0.8338\n",
      "Epoch 110/200\n",
      "100/100 [==============================] - 13s 129ms/step - loss: 0.1386 - accuracy: 0.9456 - val_loss: 0.4428 - val_accuracy: 0.8737\n",
      "Epoch 111/200\n",
      "100/100 [==============================] - 13s 128ms/step - loss: 0.1294 - accuracy: 0.9506 - val_loss: 0.5435 - val_accuracy: 0.8413\n",
      "Epoch 112/200\n"
     ]
    },
    {
     "name": "stdout",
     "output_type": "stream",
     "text": [
      "100/100 [==============================] - 13s 128ms/step - loss: 0.1263 - accuracy: 0.9494 - val_loss: 0.4340 - val_accuracy: 0.8675\n",
      "Epoch 113/200\n",
      "100/100 [==============================] - 13s 129ms/step - loss: 0.1264 - accuracy: 0.9466 - val_loss: 0.5296 - val_accuracy: 0.8450\n",
      "Epoch 114/200\n",
      "100/100 [==============================] - 13s 128ms/step - loss: 0.1365 - accuracy: 0.9456 - val_loss: 0.4592 - val_accuracy: 0.8600\n",
      "Epoch 115/200\n",
      "100/100 [==============================] - 13s 128ms/step - loss: 0.1384 - accuracy: 0.9434 - val_loss: 0.4833 - val_accuracy: 0.8462\n",
      "Epoch 116/200\n",
      "100/100 [==============================] - 13s 128ms/step - loss: 0.1282 - accuracy: 0.9522 - val_loss: 0.5146 - val_accuracy: 0.8400\n",
      "Epoch 117/200\n",
      "100/100 [==============================] - 13s 129ms/step - loss: 0.1162 - accuracy: 0.9541 - val_loss: 0.4106 - val_accuracy: 0.8675\n",
      "Epoch 118/200\n",
      "100/100 [==============================] - 13s 128ms/step - loss: 0.1229 - accuracy: 0.9528 - val_loss: 0.5804 - val_accuracy: 0.8400\n",
      "Epoch 119/200\n",
      "100/100 [==============================] - 13s 129ms/step - loss: 0.1412 - accuracy: 0.9469 - val_loss: 0.4527 - val_accuracy: 0.8462\n",
      "Epoch 120/200\n",
      "100/100 [==============================] - 13s 128ms/step - loss: 0.1254 - accuracy: 0.9513 - val_loss: 0.5841 - val_accuracy: 0.8275\n",
      "Epoch 121/200\n",
      "100/100 [==============================] - 13s 128ms/step - loss: 0.1102 - accuracy: 0.9528 - val_loss: 0.5050 - val_accuracy: 0.8600\n",
      "Epoch 122/200\n",
      "100/100 [==============================] - 13s 129ms/step - loss: 0.1340 - accuracy: 0.9491 - val_loss: 0.5518 - val_accuracy: 0.8450\n",
      "Epoch 123/200\n",
      "100/100 [==============================] - 13s 129ms/step - loss: 0.1268 - accuracy: 0.9506 - val_loss: 0.5163 - val_accuracy: 0.8550\n",
      "Epoch 124/200\n",
      "100/100 [==============================] - 13s 128ms/step - loss: 0.1093 - accuracy: 0.9581 - val_loss: 0.6210 - val_accuracy: 0.8413\n",
      "Epoch 125/200\n",
      "100/100 [==============================] - 13s 129ms/step - loss: 0.1222 - accuracy: 0.9556 - val_loss: 0.5657 - val_accuracy: 0.8575\n",
      "Epoch 126/200\n",
      "100/100 [==============================] - 13s 128ms/step - loss: 0.1213 - accuracy: 0.9516 - val_loss: 0.5901 - val_accuracy: 0.8288\n",
      "Epoch 127/200\n",
      "100/100 [==============================] - 13s 129ms/step - loss: 0.1227 - accuracy: 0.9528 - val_loss: 0.5180 - val_accuracy: 0.8438\n",
      "Epoch 128/200\n",
      "100/100 [==============================] - 13s 129ms/step - loss: 0.1213 - accuracy: 0.9544 - val_loss: 0.6110 - val_accuracy: 0.8375\n",
      "Epoch 129/200\n",
      "100/100 [==============================] - 13s 128ms/step - loss: 0.1140 - accuracy: 0.9525 - val_loss: 0.8208 - val_accuracy: 0.8075\n",
      "Epoch 130/200\n",
      "100/100 [==============================] - 13s 128ms/step - loss: 0.1163 - accuracy: 0.9550 - val_loss: 0.5491 - val_accuracy: 0.8475\n",
      "Epoch 131/200\n",
      "100/100 [==============================] - 13s 129ms/step - loss: 0.1148 - accuracy: 0.9538 - val_loss: 0.5653 - val_accuracy: 0.8363\n",
      "Epoch 132/200\n",
      "100/100 [==============================] - 13s 129ms/step - loss: 0.1279 - accuracy: 0.9513 - val_loss: 0.6306 - val_accuracy: 0.8363\n",
      "Epoch 133/200\n",
      "100/100 [==============================] - 13s 128ms/step - loss: 0.1148 - accuracy: 0.9575 - val_loss: 0.6145 - val_accuracy: 0.8438\n",
      "Epoch 134/200\n",
      "100/100 [==============================] - 13s 127ms/step - loss: 0.1171 - accuracy: 0.9550 - val_loss: 0.5399 - val_accuracy: 0.8537\n",
      "Epoch 135/200\n",
      "100/100 [==============================] - 12s 124ms/step - loss: 0.1307 - accuracy: 0.9525 - val_loss: 0.6198 - val_accuracy: 0.8450\n",
      "Epoch 136/200\n",
      "100/100 [==============================] - 12s 124ms/step - loss: 0.1125 - accuracy: 0.9534 - val_loss: 0.6722 - val_accuracy: 0.8425\n",
      "Epoch 137/200\n",
      "100/100 [==============================] - 12s 125ms/step - loss: 0.1160 - accuracy: 0.9544 - val_loss: 0.6178 - val_accuracy: 0.8288\n",
      "Epoch 138/200\n",
      "100/100 [==============================] - 12s 124ms/step - loss: 0.1224 - accuracy: 0.9509 - val_loss: 0.5958 - val_accuracy: 0.8275\n",
      "Epoch 139/200\n",
      "100/100 [==============================] - 13s 126ms/step - loss: 0.1192 - accuracy: 0.9541 - val_loss: 0.5075 - val_accuracy: 0.8487\n",
      "Epoch 140/200\n",
      "100/100 [==============================] - 13s 125ms/step - loss: 0.1305 - accuracy: 0.9494 - val_loss: 0.5319 - val_accuracy: 0.8600\n",
      "Epoch 141/200\n",
      "100/100 [==============================] - 12s 123ms/step - loss: 0.1081 - accuracy: 0.9572 - val_loss: 0.6569 - val_accuracy: 0.8413\n",
      "Epoch 142/200\n",
      "100/100 [==============================] - 12s 124ms/step - loss: 0.1259 - accuracy: 0.9497 - val_loss: 0.5369 - val_accuracy: 0.8487\n",
      "Epoch 143/200\n",
      "100/100 [==============================] - 12s 124ms/step - loss: 0.1235 - accuracy: 0.9519 - val_loss: 0.5569 - val_accuracy: 0.8375\n",
      "Epoch 144/200\n",
      "100/100 [==============================] - 12s 123ms/step - loss: 0.1152 - accuracy: 0.9572 - val_loss: 0.7052 - val_accuracy: 0.8388\n",
      "Epoch 145/200\n",
      "100/100 [==============================] - 12s 124ms/step - loss: 0.1118 - accuracy: 0.9541 - val_loss: 0.5085 - val_accuracy: 0.8662\n",
      "Epoch 146/200\n",
      "100/100 [==============================] - 12s 124ms/step - loss: 0.1221 - accuracy: 0.9522 - val_loss: 0.5754 - val_accuracy: 0.8363\n",
      "Epoch 147/200\n",
      "100/100 [==============================] - 13s 126ms/step - loss: 0.1043 - accuracy: 0.9581 - val_loss: 0.7784 - val_accuracy: 0.8087\n",
      "Epoch 148/200\n",
      "100/100 [==============================] - 13s 127ms/step - loss: 0.1218 - accuracy: 0.9534 - val_loss: 0.7155 - val_accuracy: 0.8087\n",
      "Epoch 149/200\n",
      "100/100 [==============================] - 13s 128ms/step - loss: 0.1038 - accuracy: 0.9594 - val_loss: 0.6428 - val_accuracy: 0.8300\n",
      "Epoch 150/200\n",
      "100/100 [==============================] - 13s 131ms/step - loss: 0.1034 - accuracy: 0.9584 - val_loss: 0.4924 - val_accuracy: 0.8575\n",
      "Epoch 151/200\n",
      "100/100 [==============================] - 13s 127ms/step - loss: 0.1299 - accuracy: 0.9516 - val_loss: 0.5575 - val_accuracy: 0.8238\n",
      "Epoch 152/200\n",
      "100/100 [==============================] - 13s 126ms/step - loss: 0.1025 - accuracy: 0.9597 - val_loss: 0.6226 - val_accuracy: 0.8375\n",
      "Epoch 153/200\n",
      "100/100 [==============================] - 13s 126ms/step - loss: 0.1034 - accuracy: 0.9600 - val_loss: 0.6375 - val_accuracy: 0.8313\n",
      "Epoch 154/200\n",
      "100/100 [==============================] - 13s 127ms/step - loss: 0.1079 - accuracy: 0.9569 - val_loss: 0.4175 - val_accuracy: 0.8687\n",
      "Epoch 155/200\n",
      "100/100 [==============================] - 13s 127ms/step - loss: 0.1206 - accuracy: 0.9528 - val_loss: 0.5439 - val_accuracy: 0.8475\n",
      "Epoch 156/200\n",
      "100/100 [==============================] - 13s 126ms/step - loss: 0.1249 - accuracy: 0.9541 - val_loss: 0.7120 - val_accuracy: 0.8200\n",
      "Epoch 157/200\n",
      "100/100 [==============================] - 13s 126ms/step - loss: 0.1085 - accuracy: 0.9566 - val_loss: 0.7339 - val_accuracy: 0.8175\n",
      "Epoch 158/200\n",
      "100/100 [==============================] - 13s 127ms/step - loss: 0.1103 - accuracy: 0.9566 - val_loss: 0.6164 - val_accuracy: 0.8288\n",
      "Epoch 159/200\n",
      "100/100 [==============================] - 13s 126ms/step - loss: 0.1150 - accuracy: 0.9591 - val_loss: 0.5356 - val_accuracy: 0.8388\n",
      "Epoch 160/200\n",
      "100/100 [==============================] - 13s 127ms/step - loss: 0.1198 - accuracy: 0.9547 - val_loss: 0.6206 - val_accuracy: 0.8250\n",
      "Epoch 161/200\n",
      "100/100 [==============================] - 13s 127ms/step - loss: 0.1129 - accuracy: 0.9616 - val_loss: 0.5916 - val_accuracy: 0.8388\n",
      "Epoch 162/200\n",
      "100/100 [==============================] - 13s 128ms/step - loss: 0.1263 - accuracy: 0.9531 - val_loss: 0.5805 - val_accuracy: 0.8475\n",
      "Epoch 163/200\n",
      "100/100 [==============================] - 13s 127ms/step - loss: 0.1222 - accuracy: 0.9544 - val_loss: 0.5388 - val_accuracy: 0.8263\n",
      "Epoch 164/200\n",
      "100/100 [==============================] - 13s 127ms/step - loss: 0.1083 - accuracy: 0.9544 - val_loss: 0.5476 - val_accuracy: 0.8475\n",
      "Epoch 165/200\n",
      "100/100 [==============================] - 13s 127ms/step - loss: 0.1113 - accuracy: 0.9569 - val_loss: 0.5281 - val_accuracy: 0.8388\n",
      "Epoch 166/200\n",
      "100/100 [==============================] - 13s 127ms/step - loss: 0.1031 - accuracy: 0.9606 - val_loss: 0.5739 - val_accuracy: 0.8550\n",
      "Epoch 167/200\n"
     ]
    },
    {
     "name": "stdout",
     "output_type": "stream",
     "text": [
      "100/100 [==============================] - 12s 125ms/step - loss: 0.1125 - accuracy: 0.9600 - val_loss: 0.6433 - val_accuracy: 0.8375\n",
      "Epoch 168/200\n",
      "100/100 [==============================] - 13s 126ms/step - loss: 0.0929 - accuracy: 0.9675 - val_loss: 0.5624 - val_accuracy: 0.8525\n",
      "Epoch 169/200\n",
      "100/100 [==============================] - 13s 126ms/step - loss: 0.0942 - accuracy: 0.9666 - val_loss: 0.5978 - val_accuracy: 0.8350\n",
      "Epoch 170/200\n",
      "100/100 [==============================] - 13s 126ms/step - loss: 0.0855 - accuracy: 0.9656 - val_loss: 0.5666 - val_accuracy: 0.8487\n",
      "Epoch 171/200\n",
      "100/100 [==============================] - 13s 126ms/step - loss: 0.1256 - accuracy: 0.9509 - val_loss: 0.5528 - val_accuracy: 0.8462\n",
      "Epoch 172/200\n",
      "100/100 [==============================] - 13s 129ms/step - loss: 0.1017 - accuracy: 0.9613 - val_loss: 0.6142 - val_accuracy: 0.8350\n",
      "Epoch 173/200\n",
      "100/100 [==============================] - 13s 128ms/step - loss: 0.1110 - accuracy: 0.9553 - val_loss: 0.5249 - val_accuracy: 0.8700\n",
      "Epoch 174/200\n",
      "100/100 [==============================] - 13s 132ms/step - loss: 0.1151 - accuracy: 0.9572 - val_loss: 0.5052 - val_accuracy: 0.8637\n",
      "Epoch 175/200\n",
      "100/100 [==============================] - 13s 126ms/step - loss: 0.1142 - accuracy: 0.9547 - val_loss: 0.6674 - val_accuracy: 0.8238\n",
      "Epoch 176/200\n",
      "100/100 [==============================] - 13s 126ms/step - loss: 0.1137 - accuracy: 0.9559 - val_loss: 0.5546 - val_accuracy: 0.8475\n",
      "Epoch 177/200\n",
      "100/100 [==============================] - 13s 125ms/step - loss: 0.1099 - accuracy: 0.9572 - val_loss: 0.6987 - val_accuracy: 0.8275\n",
      "Epoch 178/200\n",
      "100/100 [==============================] - 13s 126ms/step - loss: 0.1223 - accuracy: 0.9559 - val_loss: 0.6016 - val_accuracy: 0.8475\n",
      "Epoch 179/200\n",
      "100/100 [==============================] - 13s 126ms/step - loss: 0.1067 - accuracy: 0.9622 - val_loss: 0.5259 - val_accuracy: 0.8675\n",
      "Epoch 180/200\n",
      "100/100 [==============================] - 13s 126ms/step - loss: 0.0961 - accuracy: 0.9622 - val_loss: 0.6884 - val_accuracy: 0.8288\n",
      "Epoch 181/200\n",
      "100/100 [==============================] - 13s 126ms/step - loss: 0.1068 - accuracy: 0.9566 - val_loss: 0.5693 - val_accuracy: 0.8537\n",
      "Epoch 182/200\n",
      "100/100 [==============================] - 13s 126ms/step - loss: 0.1133 - accuracy: 0.9597 - val_loss: 0.5494 - val_accuracy: 0.8512\n",
      "Epoch 183/200\n",
      "100/100 [==============================] - 13s 126ms/step - loss: 0.1169 - accuracy: 0.9553 - val_loss: 0.5030 - val_accuracy: 0.8675\n",
      "Epoch 184/200\n",
      "100/100 [==============================] - 13s 126ms/step - loss: 0.0935 - accuracy: 0.9613 - val_loss: 0.5476 - val_accuracy: 0.8500\n",
      "Epoch 185/200\n",
      "100/100 [==============================] - 13s 126ms/step - loss: 0.1032 - accuracy: 0.9594 - val_loss: 0.5828 - val_accuracy: 0.8413\n",
      "Epoch 186/200\n",
      "100/100 [==============================] - 13s 126ms/step - loss: 0.1006 - accuracy: 0.9597 - val_loss: 0.6503 - val_accuracy: 0.8288\n",
      "Epoch 187/200\n",
      "100/100 [==============================] - 13s 126ms/step - loss: 0.1049 - accuracy: 0.9616 - val_loss: 0.9895 - val_accuracy: 0.7937\n",
      "Epoch 188/200\n",
      "100/100 [==============================] - 13s 126ms/step - loss: 0.1177 - accuracy: 0.9528 - val_loss: 0.6599 - val_accuracy: 0.8100\n",
      "Epoch 189/200\n",
      "100/100 [==============================] - 13s 126ms/step - loss: 0.0978 - accuracy: 0.9638 - val_loss: 0.5115 - val_accuracy: 0.8687\n",
      "Epoch 190/200\n",
      "100/100 [==============================] - 13s 126ms/step - loss: 0.1170 - accuracy: 0.9578 - val_loss: 0.6437 - val_accuracy: 0.8250\n",
      "Epoch 191/200\n",
      "100/100 [==============================] - 13s 127ms/step - loss: 0.0890 - accuracy: 0.9697 - val_loss: 0.5218 - val_accuracy: 0.8612\n",
      "Epoch 192/200\n",
      "100/100 [==============================] - 13s 127ms/step - loss: 0.1003 - accuracy: 0.9647 - val_loss: 0.6411 - val_accuracy: 0.8562\n",
      "Epoch 193/200\n",
      "100/100 [==============================] - 13s 126ms/step - loss: 0.0986 - accuracy: 0.9631 - val_loss: 0.5347 - val_accuracy: 0.8625\n",
      "Epoch 194/200\n",
      "100/100 [==============================] - 13s 127ms/step - loss: 0.1101 - accuracy: 0.9550 - val_loss: 0.4123 - val_accuracy: 0.8687\n",
      "Epoch 195/200\n",
      "100/100 [==============================] - 13s 129ms/step - loss: 0.0969 - accuracy: 0.9616 - val_loss: 0.5940 - val_accuracy: 0.8400\n",
      "Epoch 196/200\n",
      "100/100 [==============================] - 13s 128ms/step - loss: 0.1087 - accuracy: 0.9581 - val_loss: 0.5299 - val_accuracy: 0.8475\n",
      "Epoch 197/200\n",
      "100/100 [==============================] - 13s 129ms/step - loss: 0.0902 - accuracy: 0.9628 - val_loss: 0.6605 - val_accuracy: 0.8363\n",
      "Epoch 198/200\n",
      "100/100 [==============================] - 13s 129ms/step - loss: 0.0886 - accuracy: 0.9653 - val_loss: 0.6889 - val_accuracy: 0.8325\n",
      "Epoch 199/200\n",
      "100/100 [==============================] - 13s 126ms/step - loss: 0.1016 - accuracy: 0.9606 - val_loss: 0.5810 - val_accuracy: 0.8537\n",
      "Epoch 200/200\n",
      "100/100 [==============================] - 13s 127ms/step - loss: 0.0915 - accuracy: 0.9644 - val_loss: 0.6757 - val_accuracy: 0.8350\n"
     ]
    },
    {
     "data": {
      "text/plain": [
       "<tensorflow.python.keras.callbacks.History at 0x7f4a58685210>"
      ]
     },
     "execution_count": 12,
     "metadata": {},
     "output_type": "execute_result"
    }
   ],
   "source": [
    "batch_size = 100\n",
    "\n",
    "classifier.fit_generator(\n",
    "    trainSet,\n",
    "    steps_per_epoch = int(10000/batch_size),\n",
    "    epochs = 200,\n",
    "    validation_data = testSet,\n",
    "    validation_steps = int(2500/batch_size)\n",
    ")"
   ]
  },
  {
   "cell_type": "code",
   "execution_count": 13,
   "metadata": {},
   "outputs": [],
   "source": [
    "import numpy as np\n",
    "\n",
    "from keras.preprocessing import image"
   ]
  },
  {
   "cell_type": "code",
   "execution_count": 14,
   "metadata": {},
   "outputs": [],
   "source": [
    "new_image = image.load_img(\n",
    "    'test_image_2.jpg',\n",
    "    target_size = (64, 64)\n",
    ")"
   ]
  },
  {
   "cell_type": "code",
   "execution_count": 15,
   "metadata": {},
   "outputs": [
    {
     "name": "stdout",
     "output_type": "stream",
     "text": [
      "Cat\n"
     ]
    }
   ],
   "source": [
    "new_image = image.img_to_array(new_image)\n",
    "new_image = np.expand_dims(new_image, axis = 0)\n",
    "\n",
    "result = classifier.predict(new_image)\n",
    "#trainSet.class_indices\n",
    "\n",
    "if result[0][0] == 1:\n",
    "    prediction = 'Dog'\n",
    "else:\n",
    "    prediction = 'Cat'\n",
    "    \n",
    "print(prediction)"
   ]
  },
  {
   "cell_type": "code",
   "execution_count": null,
   "metadata": {},
   "outputs": [],
   "source": []
  }
 ],
 "metadata": {
  "kernelspec": {
   "display_name": "Python 3",
   "language": "python",
   "name": "python3"
  },
  "language_info": {
   "codemirror_mode": {
    "name": "ipython",
    "version": 3
   },
   "file_extension": ".py",
   "mimetype": "text/x-python",
   "name": "python",
   "nbconvert_exporter": "python",
   "pygments_lexer": "ipython3",
   "version": "3.7.6"
  }
 },
 "nbformat": 4,
 "nbformat_minor": 4
}
