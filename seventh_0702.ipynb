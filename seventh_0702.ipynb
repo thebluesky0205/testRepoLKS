{
 "cells": [
  {
   "cell_type": "code",
   "execution_count": 1,
   "metadata": {},
   "outputs": [
    {
     "name": "stdout",
     "output_type": "stream",
     "text": [
      "0702 목\n"
     ]
    }
   ],
   "source": [
    "print(\"0702 목\")"
   ]
  },
  {
   "cell_type": "code",
   "execution_count": 3,
   "metadata": {},
   "outputs": [],
   "source": [
    "# git add 파일혹인 디렉\n",
    "# git status\n",
    "# git commit -am \"지정이름, 내용\"\n",
    "# git push origin master"
   ]
  },
  {
   "cell_type": "markdown",
   "metadata": {},
   "source": []
  },
  {
   "cell_type": "code",
   "execution_count": 11,
   "metadata": {},
   "outputs": [
    {
     "name": "stdout",
     "output_type": "stream",
     "text": [
      "CD...3\n",
      "CD...2\n",
      "CD...1\n"
     ]
    }
   ],
   "source": [
    "import time\n",
    "import multiprocessing\n",
    "\n",
    "# multiprocessing.Process는 프로세를 만드는데 활용 할 수있다.\n",
    "class countDown(multiprocessing.Process):\n",
    "    def __init__(self, x):\n",
    "        # 생성자쪽에서 multiprocessing.Process의 생성자를 호출해서\n",
    "        # 실제 구동가능한 프로세를 만들었다.\n",
    "        # 해당 프로세스에는  X 값을 입력으로 들어온 값을 설정한다.\n",
    "        multiprocessing.Process.__init__(self)\n",
    "        self.x = x\n",
    "    \n",
    "    #실제 플로세스가 run()을 사용하면 구동하는 함수\n",
    "    def run(self):\n",
    "        while True:\n",
    "            if self.x == 0:\n",
    "                break\n",
    "            print(\"CD...%d\" % self.x)\n",
    "            self.x -=1\n",
    "            # sleep(초단위 시간)을 통해서 대기할 수 있음.\n",
    "            time.sleep(1)\n",
    "            \n",
    "p = countDown(3)\n",
    "# 실제 p에 해당하는 클래스의 run()을 구동한다.\n",
    "p.start()\n",
    "            "
   ]
  },
  {
   "cell_type": "code",
   "execution_count": 4,
   "metadata": {},
   "outputs": [
    {
     "name": "stdout",
     "output_type": "stream",
     "text": [
      "블라블라 : p1\n",
      "블라블라 : p2\n",
      "블라블라 : p3\n",
      "블라블라 : p4\n",
      "메인 쓰레드 ...\n",
      "블라블라 : p1\n",
      "메인 쓰레드 ...\n",
      "블라블라 : p1\n",
      "블라블라 : p4\n",
      "메인 쓰레드 ...\n",
      "블라블라 : p2\n",
      "블라블라 : p1\n",
      "메인 쓰레드 ...\n",
      "블라블라 : p1\n",
      "블라블라 : p4\n",
      "메인 쓰레드 ...\n",
      "블라블라 : p3\n",
      "블라블라 : p1\n",
      "메인 쓰레드 ...\n",
      "블라블라 : p2\n",
      "블라블라 : p4\n",
      "블라블라 : p1\n",
      "메인 쓰레드 ...\n",
      "블라블라 : p1\n",
      "메인 쓰레드 ...\n",
      "블라블라 : p4\n",
      "블라블라 : p1\n",
      "메인 쓰레드 ...\n",
      "블라블라 : p2\n",
      "블라블라 : p1\n",
      "메인 쓰레드 ...\n",
      "블라블라 : p3\n",
      "블라블라 : p4\n",
      "블라블라 : p1\n",
      "메인 쓰레드 ...\n",
      "블라블라 : p1\n",
      "메인 쓰레드 ...\n",
      "블라블라 : p2\n",
      "블라블라 : p4\n",
      "블라블라 : p1\n",
      "메인 쓰레드 ...\n",
      "블라블라 : p1\n",
      "메인 쓰레드 ...\n",
      "블라블라 : p4\n",
      "블라블라 : p1\n",
      "메인 쓰레드 ...\n",
      "블라블라 : p3\n",
      "블라블라 : p2\n",
      "블라블라 : p1\n",
      "메인 쓰레드 ...\n",
      "블라블라 : p4\n",
      "블라블라 : p1\n",
      "메인 쓰레드 ...\n",
      "블라블라 : p1\n",
      "메인 쓰레드 ...\n"
     ]
    },
    {
     "name": "stderr",
     "output_type": "stream",
     "text": [
      "Process Process-44:\n",
      "Process Process-42:\n",
      "Process Process-41:\n",
      "Process Process-43:\n",
      "Traceback (most recent call last):\n",
      "Traceback (most recent call last):\n",
      "Traceback (most recent call last):\n",
      "  File \"/home/bitai/anaconda3/lib/python3.7/multiprocessing/process.py\", line 297, in _bootstrap\n",
      "    self.run()\n",
      "  File \"/home/bitai/anaconda3/lib/python3.7/multiprocessing/process.py\", line 297, in _bootstrap\n",
      "    self.run()\n",
      "Traceback (most recent call last):\n",
      "  File \"/home/bitai/anaconda3/lib/python3.7/multiprocessing/process.py\", line 297, in _bootstrap\n",
      "    self.run()\n",
      "  File \"/home/bitai/anaconda3/lib/python3.7/multiprocessing/process.py\", line 99, in run\n",
      "    self._target(*self._args, **self._kwargs)\n",
      "  File \"<ipython-input-4-31fa49d66911>\", line 9, in process\n",
      "    time.sleep(interval)\n",
      "  File \"/home/bitai/anaconda3/lib/python3.7/multiprocessing/process.py\", line 99, in run\n",
      "    self._target(*self._args, **self._kwargs)\n",
      "  File \"/home/bitai/anaconda3/lib/python3.7/multiprocessing/process.py\", line 99, in run\n",
      "    self._target(*self._args, **self._kwargs)\n",
      "  File \"<ipython-input-4-31fa49d66911>\", line 9, in process\n",
      "    time.sleep(interval)\n",
      "KeyboardInterrupt\n",
      "  File \"<ipython-input-4-31fa49d66911>\", line 9, in process\n",
      "    time.sleep(interval)\n",
      "  File \"/home/bitai/anaconda3/lib/python3.7/multiprocessing/process.py\", line 297, in _bootstrap\n",
      "    self.run()\n",
      "KeyboardInterrupt\n",
      "KeyboardInterrupt\n",
      "  File \"/home/bitai/anaconda3/lib/python3.7/multiprocessing/process.py\", line 99, in run\n",
      "    self._target(*self._args, **self._kwargs)\n",
      "  File \"<ipython-input-4-31fa49d66911>\", line 9, in process\n",
      "    time.sleep(interval)\n",
      "KeyboardInterrupt\n"
     ]
    },
    {
     "ename": "KeyboardInterrupt",
     "evalue": "",
     "output_type": "error",
     "traceback": [
      "\u001b[0;31m---------------------------------------------------------------------------\u001b[0m",
      "\u001b[0;31mKeyboardInterrupt\u001b[0m                         Traceback (most recent call last)",
      "\u001b[0;32m<ipython-input-4-31fa49d66911>\u001b[0m in \u001b[0;36m<module>\u001b[0;34m\u001b[0m\n\u001b[1;32m     34\u001b[0m     \u001b[0;31m# 자신의 프로세스 ID와 PID, 부모의 프로세스 ID는 PPID\u001b[0m\u001b[0;34m\u001b[0m\u001b[0;34m\u001b[0m\u001b[0;34m\u001b[0m\u001b[0m\n\u001b[1;32m     35\u001b[0m     \u001b[0mprint\u001b[0m\u001b[0;34m(\u001b[0m\u001b[0;34m\"메인 쓰레드 ...\"\u001b[0m\u001b[0;34m)\u001b[0m\u001b[0;34m\u001b[0m\u001b[0;34m\u001b[0m\u001b[0m\n\u001b[0;32m---> 36\u001b[0;31m     \u001b[0mtime\u001b[0m\u001b[0;34m.\u001b[0m\u001b[0msleep\u001b[0m\u001b[0;34m(\u001b[0m\u001b[0;36m1\u001b[0m\u001b[0;34m)\u001b[0m\u001b[0;34m\u001b[0m\u001b[0;34m\u001b[0m\u001b[0m\n\u001b[0m\u001b[1;32m     37\u001b[0m \u001b[0;34m\u001b[0m\u001b[0m\n\u001b[1;32m     38\u001b[0m \u001b[0;31m# ps -ef로 프로세스 리스트를 확인할 수 있고\u001b[0m\u001b[0;34m\u001b[0m\u001b[0;34m\u001b[0m\u001b[0;34m\u001b[0m\u001b[0m\n",
      "\u001b[0;31mKeyboardInterrupt\u001b[0m: "
     ]
    }
   ],
   "source": [
    "import time\n",
    "import multiprocessing\n",
    "\n",
    "# 프로세스 함수는 메시지를 출력하고\n",
    "# 일정한 시간 간격으로 동작을 하도록 서포트한다.\n",
    "def process(message, interval):\n",
    "    while True:\n",
    "        print(\"블라블라 : %s\" % message)\n",
    "        time.sleep(interval)\n",
    "        \n",
    "# p1이라는 프로세를 만드는데 \n",
    "# 이 녀석에게 위에 def process 함수의 일을 시킬 것이다.\n",
    "# 그리고 파라미터(입력)로는 args = (\"p1\",1)을 전달할 것이다.\n",
    "p1 = multiprocessing.Process(target = process, args = (\"p1\", 1))\n",
    "p2 = multiprocessing.Process(target = process, args = (\"p2\", 3))\n",
    "p3 = multiprocessing.Process(target = process, args = (\"p3\", 5))\n",
    "p4 = multiprocessing.Process(target = process, args = (\"p4\", 2))\n",
    "\n",
    "\n",
    "p1.start()\n",
    "p2.start()\n",
    "p3.start()\n",
    "p4.start()\n",
    "\n",
    "\n",
    "cnt = 0\n",
    "\n",
    "while cnt < 100:\n",
    "    cnt += 1\n",
    "    # 메인 쓰레드가(부모 프로세스)\n",
    "    # 프로세스를 생성할 때는 부모 프로세스가 자식 프로세스를 관리하게 된다.\n",
    "    # ps -ef 명령으로 볼 때\n",
    "    # 부모 프로세스들은 모두 공통된 부모 프로세스를 가진다.\n",
    "    # 자신의 프로세스 ID와 PID, 부모의 프로세스 ID는 PPID\n",
    "    print(\"메인 쓰레드 ...\")\n",
    "    time.sleep(1)\n",
    "    \n",
    "# ps -ef로 프로세스 리스트를 확인할 수 있고\n",
    "# 확인된 프로세스중 강종하고 싶은것이 있으면\n",
    "# kill -9 PID숫자를 통해서 제거\n"
   ]
  },
  {
   "cell_type": "code",
   "execution_count": 16,
   "metadata": {},
   "outputs": [
    {
     "name": "stdout",
     "output_type": "stream",
     "text": [
      "100\n",
      "[0, 1, 4, 9, 16, 25, 36, 49, 64, 81]\n",
      "0\n",
      "1\n",
      "4\n",
      "None\n",
      "pass\n"
     ]
    },
    {
     "ename": "TimeoutError",
     "evalue": "",
     "output_type": "error",
     "traceback": [
      "\u001b[0;31m---------------------------------------------------------------------------\u001b[0m",
      "\u001b[0;31mTimeoutError\u001b[0m                              Traceback (most recent call last)",
      "\u001b[0;32m<ipython-input-16-3f7e80c33011>\u001b[0m in \u001b[0;36m<module>\u001b[0;34m\u001b[0m\n\u001b[1;32m     30\u001b[0m \u001b[0mprint\u001b[0m\u001b[0;34m(\u001b[0m\u001b[0;34m\"pass\"\u001b[0m\u001b[0;34m)\u001b[0m\u001b[0;34m\u001b[0m\u001b[0;34m\u001b[0m\u001b[0m\n\u001b[1;32m     31\u001b[0m \u001b[0mres\u001b[0m \u001b[0;34m=\u001b[0m \u001b[0mpool\u001b[0m\u001b[0;34m.\u001b[0m\u001b[0mapply_async\u001b[0m\u001b[0;34m(\u001b[0m\u001b[0mtime\u001b[0m\u001b[0;34m.\u001b[0m\u001b[0msleep\u001b[0m\u001b[0;34m,\u001b[0m \u001b[0;34m(\u001b[0m\u001b[0;36m10\u001b[0m\u001b[0;34m,\u001b[0m \u001b[0;34m)\u001b[0m\u001b[0;34m)\u001b[0m\u001b[0;34m\u001b[0m\u001b[0;34m\u001b[0m\u001b[0m\n\u001b[0;32m---> 32\u001b[0;31m \u001b[0mprint\u001b[0m\u001b[0;34m(\u001b[0m\u001b[0mres\u001b[0m\u001b[0;34m.\u001b[0m\u001b[0mget\u001b[0m\u001b[0;34m(\u001b[0m\u001b[0mtimeout\u001b[0m \u001b[0;34m=\u001b[0m \u001b[0;36m3\u001b[0m\u001b[0;34m)\u001b[0m\u001b[0;34m)\u001b[0m\u001b[0;34m\u001b[0m\u001b[0;34m\u001b[0m\u001b[0m\n\u001b[0m",
      "\u001b[0;32m~/anaconda3/lib/python3.7/multiprocessing/pool.py\u001b[0m in \u001b[0;36mget\u001b[0;34m(self, timeout)\u001b[0m\n\u001b[1;32m    651\u001b[0m         \u001b[0mself\u001b[0m\u001b[0;34m.\u001b[0m\u001b[0mwait\u001b[0m\u001b[0;34m(\u001b[0m\u001b[0mtimeout\u001b[0m\u001b[0;34m)\u001b[0m\u001b[0;34m\u001b[0m\u001b[0;34m\u001b[0m\u001b[0m\n\u001b[1;32m    652\u001b[0m         \u001b[0;32mif\u001b[0m \u001b[0;32mnot\u001b[0m \u001b[0mself\u001b[0m\u001b[0;34m.\u001b[0m\u001b[0mready\u001b[0m\u001b[0;34m(\u001b[0m\u001b[0;34m)\u001b[0m\u001b[0;34m:\u001b[0m\u001b[0;34m\u001b[0m\u001b[0;34m\u001b[0m\u001b[0m\n\u001b[0;32m--> 653\u001b[0;31m             \u001b[0;32mraise\u001b[0m \u001b[0mTimeoutError\u001b[0m\u001b[0;34m\u001b[0m\u001b[0;34m\u001b[0m\u001b[0m\n\u001b[0m\u001b[1;32m    654\u001b[0m         \u001b[0;32mif\u001b[0m \u001b[0mself\u001b[0m\u001b[0;34m.\u001b[0m\u001b[0m_success\u001b[0m\u001b[0;34m:\u001b[0m\u001b[0;34m\u001b[0m\u001b[0;34m\u001b[0m\u001b[0m\n\u001b[1;32m    655\u001b[0m             \u001b[0;32mreturn\u001b[0m \u001b[0mself\u001b[0m\u001b[0;34m.\u001b[0m\u001b[0m_value\u001b[0m\u001b[0;34m\u001b[0m\u001b[0;34m\u001b[0m\u001b[0m\n",
      "\u001b[0;31mTimeoutError\u001b[0m: "
     ]
    }
   ],
   "source": [
    "import time\n",
    "from multiprocessing import Pool\n",
    "\n",
    "def f(x):\n",
    "    return x * x\n",
    "\n",
    "# 프로세스들의 집합 장소를 만들어서 4개를 수용할 수 있도록 하였다.\n",
    "pool = Pool(processes = 4)\n",
    "\n",
    "\n",
    "\n",
    "# 이때 작업 전체는 비동기 처리가 이루어진다.\n",
    "# pool.apply_async()가 비동기 처리 작업을 지원한다.\n",
    "\n",
    "res = pool.apply_async(f, (10, ))\n",
    "# 1초안에 처리하지 못하면 에러!\n",
    "# 처리를 한다면 결과를 출력한다.\n",
    "print(res.get(timeout = 1))\n",
    "\n",
    "# 위에 def f라는 기능을 10번 작업하도록 한다.\n",
    "print(pool.map(f, range(10)))\n",
    "it = pool.imap(f, range(10))\n",
    "\n",
    "print(it.next())\n",
    "print(it.next())\n",
    "print(it.next(timeout = 2))\n",
    "\n",
    "res = pool.apply_async(time.sleep, (10, ))\n",
    "print(res.get(timeout = 60))\n",
    "print(\"pass\")\n",
    "# 10초간 슬립을 하는데 대기 시간은 3초이므로 에러가 발생!\n",
    "res = pool.apply_async(time.sleep, (10, ))\n",
    "print(res.get(timeout = 3))"
   ]
  },
  {
   "cell_type": "code",
   "execution_count": 5,
   "metadata": {},
   "outputs": [
    {
     "name": "stdout",
     "output_type": "stream",
     "text": [
      "Final Money = 19027\n",
      "Final Money = 20691\n",
      "Final Money = 27022\n",
      "Final Money = 14778\n",
      "Final Money = 17320\n",
      "Final Money = 24299\n",
      "Final Money = 19613\n",
      "Final Money = 24434\n",
      "Final Money = 16982\n",
      "Final Money = 17073\n"
     ]
    }
   ],
   "source": [
    "import multiprocessing as mp\n",
    "\n",
    "def withdraw(money):\n",
    "    for _ in range(20000):\n",
    "        money.value -= 1\n",
    "    \n",
    "def deposit(money):\n",
    "    for _ in range(20000):\n",
    "        money.value += 1\n",
    "        \n",
    "def perform_process():\n",
    "    # money는 크리티컬 섹션이 되었다.\n",
    "    money = mp.Value('i', 20000)\n",
    "    \n",
    "    p1 = mp.Process(target = withdraw, args = (money, ))\n",
    "    p2 = mp.Process(target = deposit, args = (money, ))\n",
    "    \n",
    "    p1.start()\n",
    "    p2.start()\n",
    "    \n",
    "    p1.join()\n",
    "    p2.join()\n",
    "    \n",
    "    print(\"Final Money = {}\".format(money.value))\n",
    "    \n",
    "for _ in range(10):\n",
    "    perform_process()"
   ]
  },
  {
   "cell_type": "code",
   "execution_count": 3,
   "metadata": {},
   "outputs": [
    {
     "name": "stdout",
     "output_type": "stream",
     "text": [
      "Final Money = 20000\n",
      "Final Money = 20000\n",
      "Final Money = 20000\n",
      "Final Money = 20000\n",
      "Final Money = 20000\n",
      "Final Money = 20000\n",
      "Final Money = 20000\n",
      "Final Money = 20000\n",
      "Final Money = 20000\n",
      "Final Money = 20000\n"
     ]
    }
   ],
   "source": [
    "import multiprocessing as mp\n",
    "\n",
    "# p1 프로세스의 작업 - 0.000000001\n",
    "def withdraw(money, lock):\n",
    "    for _ in range(20000):\n",
    "        # 자물쇠를 채운다(lock.acquire()).\n",
    "        # 자물쇠를 채웠으므로 아무도 여기에는 이제 들어오지 못한다.\n",
    "        # 들어오지 못하는 영역이 결국 크리티컬 섹션이다.\n",
    "        # 만약 자물쇠(락)가 채워진 상태에서 다른 녀석이\n",
    "        # 자물쇠(락)을 얻으려고 하면 접근하지 못하게 된다.\n",
    "        # (락이 풀릴때 까지 - lock.release())\n",
    "        lock.acquire()\n",
    "        money.value -= 1\n",
    "        lock.release()\n",
    "    \n",
    "# p2 프로세스의 작업 - 0.000000007\n",
    "def deposit(money, lock):\n",
    "    for _ in range(20000):\n",
    "        lock.acquire()\n",
    "        money.value += 1\n",
    "        lock.release()\n",
    "        \n",
    "def perform_process():\n",
    "    # money는 크리티컬 섹션이 되었다.\n",
    "    money = mp.Value('i', 20000)\n",
    "    # 크리티컬 섹션을 보호해주기 위한 락을 추가했다.\n",
    "    # 락을 남발하면 오히려 성능을 저하시킬 수 있다.\n",
    "    # 그러나 크리티컬 섹션에 대한 보호를 수행하는데 락을 반드시 사용해야 한다.\n",
    "    lock = mp.Lock()\n",
    "    \n",
    "    p1 = mp.Process(target = withdraw, args = (money, lock, ))\n",
    "    p2 = mp.Process(target = deposit, args = (money, lock, ))\n",
    "    \n",
    "    p1.start()\n",
    "    p2.start()\n",
    "    \n",
    "    p1.join()\n",
    "    p2.join()\n",
    "    \n",
    "    print(\"Final Money = {}\".format(money.value))\n",
    "    \n",
    "for _ in range(10):\n",
    "    perform_process()"
   ]
  },
  {
   "cell_type": "code",
   "execution_count": 6,
   "metadata": {},
   "outputs": [],
   "source": [
    "# cpu는 한번에 한가지일만 한다!\n",
    "\n",
    "# 크리티컬섹션 >> 락을걸어줌으로써 크리티컬 섹션이 보호된다\n",
    "# 데이터의 무결성이 보장되냐 안되냐..\n",
    "\n",
    "# 성능은 떨어지지만 데이터의 안전성이 보장된다.\n",
    "\n",
    "# 크리티컬섹션을 보호할때 사용하는 섹션이 보통 2가지가 있다.\n",
    "# 1. spimlock vs semaphore\n",
    "\n",
    "# [spimlock] -> 단순한 작업\n",
    "# while 루프, 폴링\n",
    "\n",
    "# [semaphore] -> context switching / 복잡한 작업.\n",
    "# 비동기 처리 ex) 카톡 / 전화 : 동기처리"
   ]
  },
  {
   "cell_type": "code",
   "execution_count": 11,
   "metadata": {},
   "outputs": [
    {
     "name": "stdout",
     "output_type": "stream",
     "text": [
      "[time:Thu Jul  2 15:00:02 2020][tid:140042142201600] Thread! \n",
      "\n",
      "[time:Thu Jul  2 15:00:02 2020][tid:140041561040640] Thread! \n",
      "\n",
      "[time:Thu Jul  2 15:00:02 2020][tid:140042150594304] Thread! \n",
      "\n",
      "[time:Thu Jul  2 15:00:02 2020][tid:140041552647936] Thread! \n",
      "\n",
      "[time:Thu Jul  2 15:00:02 2020][tid:140042167379712] Thread! \n",
      "\n",
      "[time:Thu Jul  2 15:00:02 2020][tid:140042158987008] Thread! \n",
      "\n",
      "[time:Thu Jul  2 15:00:02 2020][tid:140042133808896] Thread! \n",
      "\n",
      "[time:Thu Jul  2 15:00:02 2020][tid:140042125416192] Thread! \n",
      "\n",
      "[time:Thu Jul  2 15:00:02 2020][tid:140042117023488] Thread! \n",
      "[time:Thu Jul  2 15:00:02 2020][tid:140041569433344] Thread! \n",
      "\n",
      "\n",
      "[time:Thu Jul  2 15:00:02 2020][tid:140041544255232] Thread! \n",
      "\n",
      "[time:Thu Jul  2 15:00:02 2020][tid:140041535862528] Thread! \n",
      "\n"
     ]
    }
   ],
   "source": [
    "import time\n",
    "import threading\n",
    "\n",
    "# threading.THread를 상속받아\n",
    "# DummyTread를 기본적인 THread 구조로 만들었다.\n",
    "# 여기서 run만 구현해주면 바로 스레드를 활용할 수 있게 된다.\n",
    "# run에는 스레드가 작업할 내용을 작성해주면 된다.\n",
    "class DummyTread(threading.Thread):\n",
    "    def run(self):\n",
    "        # time.ctime()은 생성시간\n",
    "        now = time.ctime()\n",
    "        # self.ident는 Thread 자체의 ID값을 나타낸다.\n",
    "        print(\n",
    "            \"[time:%s][tid:%d] Thread! \\n\" % (now,self.ident)\n",
    "        )\n",
    "        time.sleep(30)\n",
    "# 스레드를 전체 총괄하는 메인 쓰레드가 있고\n",
    "# 그리고 MAIN THREAD의 통제를 받는 12개의 별도 Thread가 존재하는 것\n",
    "# 그래서 ps -eLf로 살펴봤을때 main Thread\n",
    "        \n",
    "for _ in range(12):   \n",
    "    t = DummyTread()\n",
    "    t.start()\n",
    "    "
   ]
  },
  {
   "cell_type": "code",
   "execution_count": 12,
   "metadata": {},
   "outputs": [],
   "source": [
    "# Thread는 Process와 다른점이 하나 있다.\n",
    "# Thread는 기본적으로 Data영역을 공유한다.\n",
    "# Process는 기본적으로 Data영역이 분리되어 있음.\n"
   ]
  },
  {
   "cell_type": "code",
   "execution_count": 24,
   "metadata": {},
   "outputs": [
    {
     "name": "stdout",
     "output_type": "stream",
     "text": [
      "x = 20000 after Iteration 0\n",
      "x = 20000 after Iteration 1\n",
      "x = 20000 after Iteration 2\n",
      "x = 20000 after Iteration 3\n",
      "x = 20000 after Iteration 4\n",
      "x = 20000 after Iteration 5\n",
      "x = 20000 after Iteration 6\n",
      "x = 20000 after Iteration 7\n",
      "x = 20000 after Iteration 8\n",
      "x = 20000 after Iteration 9\n"
     ]
    }
   ],
   "source": [
    "import threading\n",
    "\n",
    "# 전역 변수는 Data 영역에 배치된다.\n",
    "x = 0\n",
    "\n",
    "def increment_global():\n",
    "    global x\n",
    "    x += 1\n",
    "        \n",
    "def taskOfThread():\n",
    "    for _ in range(10000):\n",
    "        increment_global()\n",
    "        \n",
    "def thread_main():\n",
    "    global x\n",
    "    x = 0\n",
    "    \n",
    "    # 두개의 스레드를 만들었다.\n",
    "    # 두개의 스레드fmf taskOfThread라는 함수를 구동시킨다.\n",
    "    t1 = threading.Thread(target = taskOfThread)\n",
    "    t2 = threading.Thread(target = taskOfThread)\n",
    "    \n",
    "    t1.start()\n",
    "    t2.start()\n",
    "    \n",
    "    t1.join()\n",
    "    t2.join()\n",
    "    \n",
    "# Thread가 전역변수의 내용을\n",
    "# 별도의 작업 없이도 공유할 수 있음을 확인하는 부분이다.\n",
    "for i in range(10):\n",
    "    thread_main()\n",
    "    print(\"x = {1} after Iteration {0}\".format(i, x))"
   ]
  },
  {
   "cell_type": "code",
   "execution_count": 25,
   "metadata": {},
   "outputs": [
    {
     "name": "stdout",
     "output_type": "stream",
     "text": [
      "x = 200000 after Iteration 0\n",
      "x = 200000 after Iteration 1\n",
      "x = 200000 after Iteration 2\n",
      "x = 200000 after Iteration 3\n",
      "x = 200000 after Iteration 4\n",
      "x = 200000 after Iteration 5\n",
      "x = 200000 after Iteration 6\n",
      "x = 200000 after Iteration 7\n",
      "x = 200000 after Iteration 8\n",
      "x = 200000 after Iteration 9\n"
     ]
    }
   ],
   "source": [
    "import threading\n",
    "\n",
    "# 전역 변수는 Data 영역에 배치된다.\n",
    "lock = threading.Lock()\n",
    "x = 0\n",
    "\n",
    "def increment_global():\n",
    "    global x\n",
    "    x += 1\n",
    "        \n",
    "def taskOfThread():\n",
    "    for _ in range(100000):\n",
    "        lock.acquire()\n",
    "        increment_global()\n",
    "        lock.release()\n",
    "        \n",
    "def thread_main():\n",
    "    global x\n",
    "    x = 0\n",
    "    \n",
    "    \n",
    "    # 두개의 스레드를 만들었다.\n",
    "    # 두개의 스레드fmf taskOfThread라는 함수를 구동시킨다.\n",
    "    t1 = threading.Thread(target = taskOfThread)\n",
    "    t2 = threading.Thread(target = taskOfThread)\n",
    "    \n",
    "    t1.start()\n",
    "    t2.start()\n",
    "    \n",
    "    t1.join()\n",
    "    t2.join()\n",
    "    \n",
    "# Thread가 전역변수의 내용을\n",
    "# 별도의 작업 없이도 공유할 수 있음을 확인하는 부분이다.\n",
    "for i in range(10):\n",
    "    thread_main()\n",
    "    print(\"x = {1} after Iteration {0}\".format(i, x))"
   ]
  },
  {
   "cell_type": "code",
   "execution_count": 28,
   "metadata": {},
   "outputs": [],
   "source": [
    "def square2(x):\n",
    "    return x * x\n",
    "\n",
    "myList = [1, 2, 3, 4, 5]\n",
    "res = [1]\n",
    "\n",
    "for num in myList:\n",
    "    res.append(square(num))"
   ]
  },
  {
   "cell_type": "code",
   "execution_count": 38,
   "metadata": {},
   "outputs": [
    {
     "name": "stdout",
     "output_type": "stream",
     "text": [
      "워커 프로세스 이스 포 2: 18262\n",
      "워커 프로세스 이스 포 4: 18264\n",
      "워커 프로세스 이스 포 1: 18261\n",
      "워커 프로세스 이스 포 3: 18263\n",
      "워커 프로세스 이스 포 5: 18265\n",
      "[1, 4, 9, 16, 25]\n"
     ]
    }
   ],
   "source": [
    "import os\n",
    "import multiprocessing\n",
    "\n",
    "def square(n):\n",
    "    print(\"워커 프로세스 이스 포 {0}: {1}\".format(n, os.getpid()))\n",
    "    return n * n\n",
    "\n",
    "p = multiprocessing.Pool()\n",
    "res = p.map(square, myList)\n",
    "\n",
    "print(res)"
   ]
  },
  {
   "cell_type": "code",
   "execution_count": 3,
   "metadata": {},
   "outputs": [
    {
     "name": "stderr",
     "output_type": "stream",
     "text": [
      "(thread_0 ) Waiting to join the pool\n",
      "(thread_1 ) Waiting to join the pool\n",
      "(thread_2 ) Waiting to join the pool\n",
      "(thread_3 ) Waiting to join the pool\n",
      "(thread_4 ) Waiting to join the pool\n",
      "(thread_5 ) Waiting to join the pool\n",
      "(thread_6 ) Waiting to join the pool\n",
      "(thread_7 ) Waiting to join the pool\n",
      "(thread_8 ) Waiting to join the pool\n",
      "(thread_9 ) Waiting to join the pool\n",
      "(thread_9 ) Running: ['thread_8', 'thread_9']\n",
      "(thread_8 ) Running: ['thread_9']\n",
      "(thread_9 ) Running: []\n"
     ]
    }
   ],
   "source": [
    "import threading\n",
    "import time\n",
    "import logging\n",
    "\n",
    "logging.basicConfig(level=logging.DEBUG,\n",
    "                    format='(%(threadName)-9s) %(message)s',)\n",
    "\n",
    "class ThreadPool(object):\n",
    "    def __init__(self):\n",
    "        super(ThreadPool, self).__init__()\n",
    "        self.active = []\n",
    "        self.lock = threading.Lock()\n",
    "        \n",
    "    def makeActive(self, name):\n",
    "        with self.lock:\n",
    "            # 실제 연산 자리!!!\n",
    "            self.active.append(name)\n",
    "\n",
    "            time.sleep(5)\n",
    "            logging.debug('Running: %s', self.active)\n",
    "    def makeInactive(self, name):\n",
    "        print('makeInactive')\n",
    "        with self.lock:\n",
    "            self.active.remove(name)\n",
    "            logging.debug('Running: %s', self.active)\n",
    "\n",
    "def f(s, pool):\n",
    "    logging.debug('Waiting to join the pool')\n",
    "    with s:\n",
    "        name = threading.currentThread().getName()\n",
    "        pool.makeActive(name)\n",
    "        time.sleep(1)\n",
    "        pool.makeInactive(name)\n",
    "\n",
    "# 여러개의 스레드를 수용할 수 있는 pool을 만든다.\n",
    "pool = ThreadPool()\n",
    "# 최대 3개까지 사용할 수 있는 세마퐁어를 만든다.\n",
    "s = threading.Semaphore(3)\n",
    "# 총10개의 스레드를 만들어\n",
    "for i in range(10):\n",
    "    t = threading.Thread(target=f, name='thread_'+str(i), args=(s, pool))\n",
    "    t.start()"
   ]
  },
  {
   "cell_type": "code",
   "execution_count": 5,
   "metadata": {},
   "outputs": [],
   "source": [
    "# y = x^2에 대해 0 ~ 3까지의 적분을 구현해보자!\n",
    "# 1. dx = 0.001(고정 - 무한소로 가정)\n",
    "# 2. x값의 이동을 기록하도록 한다.\n",
    "# 3. y는 현재의 x값에 따라서 변한다.\n",
    "# 4. dx * y로 사각형 넓이 값을 구한다.\n",
    "# 5. 구한 모든 사각형들의 넓이를 합한다.\n",
    "# y = x^2을 적분하면 1/3x^3 + C\n",
    "# 0 ~ 3까지의 정적분은 9에 근접한 값이 나온다.\n",
    "# dx가 작으면 작을수록 정밀도가 높아진다.\n",
    "# dx가 작으면 작을수록 계산량이 많아진다."
   ]
  },
  {
   "cell_type": "code",
   "execution_count": 1,
   "metadata": {},
   "outputs": [],
   "source": [
    "import numpy as np\n",
    "import pandas as pd\n",
    "import matplotlib.pyplot as plt\n",
    "\n"
   ]
  },
  {
   "cell_type": "code",
   "execution_count": 7,
   "metadata": {},
   "outputs": [
    {
     "name": "stdout",
     "output_type": "stream",
     "text": [
      "[[166.   58.7]\n",
      " [176.   75.7]\n",
      " [171.   90.1]\n",
      " [169.   60.1]\n",
      " [169.   60.1]]\n"
     ]
    }
   ],
   "source": [
    "sampleData1 = np.array(\n",
    "    [\n",
    "        [166, 58.7], [176.0, 75.7],\n",
    "        [171.0, 90.1], [169.0, 60.1], [169.0, 60.1]\n",
    "    ]\n",
    ")\n",
    "\n",
    "print(sampleData1)"
   ]
  },
  {
   "cell_type": "code",
   "execution_count": 11,
   "metadata": {},
   "outputs": [
    {
     "data": {
      "image/png": "[encoded data removed]",
      "text/plain": [
       "<Figure size 432x288 with 1 Axes>"
      ]
     },
     "metadata": {
      "needs_background": "light"
     },
     "output_type": "display_data"
    }
   ],
   "source": [
    "for point in sampleData1:\n",
    "    plt.scatter(point[0], point[1],c='k', s=50)\n",
    "    \n",
    "plt.grid()\n",
    "plt.xlabel('$x$')\n",
    "plt.ylabel('$y$')\n",
    "plt.show()"
   ]
  },
  {
   "cell_type": "code",
   "execution_count": 12,
   "metadata": {},
   "outputs": [
    {
     "name": "stdout",
     "output_type": "stream",
     "text": [
      "[0 1 2 3 4 5 6 7 8 9]\n",
      "[ 5  6  7  8  9 10 11 12 13 14]\n",
      "[ 1  3  5  7  9 11 13 15 17 19 21 23 25 27 29 31 33 35 37 39 41 43 45 47\n",
      " 49 51 53 55 57 59 61 63 65 67 69 71 73 75 77 79 81 83 85 87 89 91 93 95\n",
      " 97 99]\n"
     ]
    }
   ],
   "source": [
    "value = np.arange(10)\n",
    "value2 = np.arange(5, 15)\n",
    "value3 = np.arange(1, 100, 2)\n",
    "\n",
    "print(value)\n",
    "print(value2)\n",
    "print(value3)"
   ]
  },
  {
   "cell_type": "code",
   "execution_count": 13,
   "metadata": {},
   "outputs": [
    {
     "name": "stdout",
     "output_type": "stream",
     "text": [
      "30000000.0\n",
      "0 ~ 3까지 적분 결과는 = 8.999999547431766\n"
     ]
    }
   ],
   "source": [
    "dx = 0.0000001\n",
    "start = 0.0\n",
    "end = 3.0\n",
    "\n",
    "loopLen = (end - start) / dx\n",
    "print(loopLen)\n",
    "\n",
    "x = 0\n",
    "y = 0\n",
    "area = 0\n",
    "\n",
    "for i in range(int(loopLen)):\n",
    "    # print(i)\n",
    "    # x의 위치에 따른 y의 높이값을 계산하는 부분\n",
    "    y = x ** 2\n",
    "    # dx는 고정값인데\n",
    "    # 실제로 x는 위치를 이동하면서 y값을 갱신해줘야함\n",
    "    # 사각형을 만들기 위해서 밑변인 dx만큼 이동을 시킨다.\n",
    "    x += dx\n",
    "    # 사각형 넓이의 합을 구한다.\n",
    "    area += dx * y\n",
    "    \n",
    "print(\"0 ~ 3까지 적분 결과는 = \" + str(area))"
   ]
  },
  {
   "cell_type": "code",
   "execution_count": 20,
   "metadata": {},
   "outputs": [
    {
     "name": "stdout",
     "output_type": "stream",
     "text": [
      "y = x^2에 대한 0 ~3까지의 정적분 결과는= 8.555000000000003\n"
     ]
    }
   ],
   "source": [
    "import numpy as np\n",
    "\n",
    "dx = 0.1\n",
    "x = np.arange(0, 3, dx)\n",
    "# print(x)\n",
    "\n",
    "def integralRange(start, end):\n",
    "    curX = np.arange(start, end, dx)\n",
    "    Y = curX ** 2\n",
    "    eachBlock = dx * Y\n",
    "    area = np.sum(eachBlock)\n",
    "    return area\n",
    "    \n",
    "print(\"y = x^2에 대한 0 ~ 3까지의 정적분 결과는=\", integralRange(0,3))"
   ]
  },
  {
   "cell_type": "code",
   "execution_count": null,
   "metadata": {},
   "outputs": [],
   "source": []
  }
 ],
 "metadata": {
  "kernelspec": {
   "display_name": "Python 3",
   "language": "python",
   "name": "python3"
  },
  "language_info": {
   "codemirror_mode": {
    "name": "ipython",
    "version": 3
   },
   "file_extension": ".py",
   "mimetype": "text/x-python",
   "name": "python",
   "nbconvert_exporter": "python",
   "pygments_lexer": "ipython3",
   "version": "3.7.6"
  }
 },
 "nbformat": 4,
 "nbformat_minor": 4
}
