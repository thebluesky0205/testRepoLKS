{
 "cells": [
  {
   "cell_type": "code",
   "execution_count": 1,
   "metadata": {},
   "outputs": [
    {
     "name": "stdout",
     "output_type": "stream",
     "text": [
      "0702 목\n"
     ]
    }
   ],
   "source": [
    "print(\"0702 목\")"
   ]
  },
  {
   "cell_type": "code",
   "execution_count": 3,
   "metadata": {},
   "outputs": [],
   "source": [
    "# git add 파일혹인 디렉\n",
    "# git status\n",
    "# git commit -am \"지정이름, 내용\"\n",
    "# git push origin master"
   ]
  },
  {
   "cell_type": "markdown",
   "metadata": {},
   "source": []
  },
  {
   "cell_type": "code",
   "execution_count": 11,
   "metadata": {},
   "outputs": [
    {
     "name": "stdout",
     "output_type": "stream",
     "text": [
      "CD...3\n",
      "CD...2\n",
      "CD...1\n"
     ]
    }
   ],
   "source": [
    "import time\n",
    "import multiprocessing\n",
    "\n",
    "# multiprocessing.Process는 프로세를 만드는데 활용 할 수있다.\n",
    "class countDown(multiprocessing.Process):\n",
    "    def __init__(self, x):\n",
    "        # 생성자쪽에서 multiprocessing.Process의 생성자를 호출해서\n",
    "        # 실제 구동가능한 프로세를 만들었다.\n",
    "        # 해당 프로세스에는  X 값을 입력으로 들어온 값을 설정한다.\n",
    "        multiprocessing.Process.__init__(self)\n",
    "        self.x = x\n",
    "    \n",
    "    #실제 플로세스가 run()을 사용하면 구동하는 함수\n",
    "    def run(self):\n",
    "        while True:\n",
    "            if self.x == 0:\n",
    "                break\n",
    "            print(\"CD...%d\" % self.x)\n",
    "            self.x -=1\n",
    "            # sleep(초단위 시간)을 통해서 대기할 수 있음.\n",
    "            time.sleep(1)\n",
    "            \n",
    "p = countDown(3)\n",
    "# 실제 p에 해당하는 클래스의 run()을 구동한다.\n",
    "p.start()\n",
    "            "
   ]
  },
  {
   "cell_type": "code",
   "execution_count": 4,
   "metadata": {},
   "outputs": [
    {
     "name": "stdout",
     "output_type": "stream",
     "text": [
      "블라블라 : p1\n",
      "블라블라 : p2\n",
      "블라블라 : p3\n",
      "블라블라 : p4\n",
      "메인 쓰레드 ...\n",
      "블라블라 : p1\n",
      "메인 쓰레드 ...\n",
      "블라블라 : p1\n",
      "블라블라 : p4\n",
      "메인 쓰레드 ...\n",
      "블라블라 : p2\n",
      "블라블라 : p1\n",
      "메인 쓰레드 ...\n",
      "블라블라 : p1\n",
      "블라블라 : p4\n",
      "메인 쓰레드 ...\n",
      "블라블라 : p3\n",
      "블라블라 : p1\n",
      "메인 쓰레드 ...\n",
      "블라블라 : p2\n",
      "블라블라 : p4\n",
      "블라블라 : p1\n",
      "메인 쓰레드 ...\n",
      "블라블라 : p1\n",
      "메인 쓰레드 ...\n",
      "블라블라 : p4\n",
      "블라블라 : p1\n",
      "메인 쓰레드 ...\n",
      "블라블라 : p2\n",
      "블라블라 : p1\n",
      "메인 쓰레드 ...\n",
      "블라블라 : p3\n",
      "블라블라 : p4\n",
      "블라블라 : p1\n",
      "메인 쓰레드 ...\n",
      "블라블라 : p1\n",
      "메인 쓰레드 ...\n",
      "블라블라 : p2\n",
      "블라블라 : p4\n",
      "블라블라 : p1\n",
      "메인 쓰레드 ...\n",
      "블라블라 : p1\n",
      "메인 쓰레드 ...\n",
      "블라블라 : p4\n",
      "블라블라 : p1\n",
      "메인 쓰레드 ...\n",
      "블라블라 : p3\n",
      "블라블라 : p2\n",
      "블라블라 : p1\n",
      "메인 쓰레드 ...\n",
      "블라블라 : p4\n",
      "블라블라 : p1\n",
      "메인 쓰레드 ...\n",
      "블라블라 : p1\n",
      "메인 쓰레드 ...\n"
     ]
    },
    {
     "name": "stderr",
     "output_type": "stream",
     "text": [
      "Process Process-44:\n",
      "Process Process-42:\n",
      "Process Process-41:\n",
      "Process Process-43:\n",
      "Traceback (most recent call last):\n",
      "Traceback (most recent call last):\n",
      "Traceback (most recent call last):\n",
      "  File \"/home/bitai/anaconda3/lib/python3.7/multiprocessing/process.py\", line 297, in _bootstrap\n",
      "    self.run()\n",
      "  File \"/home/bitai/anaconda3/lib/python3.7/multiprocessing/process.py\", line 297, in _bootstrap\n",
      "    self.run()\n",
      "Traceback (most recent call last):\n",
      "  File \"/home/bitai/anaconda3/lib/python3.7/multiprocessing/process.py\", line 297, in _bootstrap\n",
      "    self.run()\n",
      "  File \"/home/bitai/anaconda3/lib/python3.7/multiprocessing/process.py\", line 99, in run\n",
      "    self._target(*self._args, **self._kwargs)\n",
      "  File \"<ipython-input-4-31fa49d66911>\", line 9, in process\n",
      "    time.sleep(interval)\n",
      "  File \"/home/bitai/anaconda3/lib/python3.7/multiprocessing/process.py\", line 99, in run\n",
      "    self._target(*self._args, **self._kwargs)\n",
      "  File \"/home/bitai/anaconda3/lib/python3.7/multiprocessing/process.py\", line 99, in run\n",
      "    self._target(*self._args, **self._kwargs)\n",
      "  File \"<ipython-input-4-31fa49d66911>\", line 9, in process\n",
      "    time.sleep(interval)\n",
      "KeyboardInterrupt\n",
      "  File \"<ipython-input-4-31fa49d66911>\", line 9, in process\n",
      "    time.sleep(interval)\n",
      "  File \"/home/bitai/anaconda3/lib/python3.7/multiprocessing/process.py\", line 297, in _bootstrap\n",
      "    self.run()\n",
      "KeyboardInterrupt\n",
      "KeyboardInterrupt\n",
      "  File \"/home/bitai/anaconda3/lib/python3.7/multiprocessing/process.py\", line 99, in run\n",
      "    self._target(*self._args, **self._kwargs)\n",
      "  File \"<ipython-input-4-31fa49d66911>\", line 9, in process\n",
      "    time.sleep(interval)\n",
      "KeyboardInterrupt\n"
     ]
    },
    {
     "ename": "KeyboardInterrupt",
     "evalue": "",
     "output_type": "error",
     "traceback": [
      "\u001b[0;31m---------------------------------------------------------------------------\u001b[0m",
      "\u001b[0;31mKeyboardInterrupt\u001b[0m                         Traceback (most recent call last)",
      "\u001b[0;32m<ipython-input-4-31fa49d66911>\u001b[0m in \u001b[0;36m<module>\u001b[0;34m\u001b[0m\n\u001b[1;32m     34\u001b[0m     \u001b[0;31m# 자신의 프로세스 ID와 PID, 부모의 프로세스 ID는 PPID\u001b[0m\u001b[0;34m\u001b[0m\u001b[0;34m\u001b[0m\u001b[0;34m\u001b[0m\u001b[0m\n\u001b[1;32m     35\u001b[0m     \u001b[0mprint\u001b[0m\u001b[0;34m(\u001b[0m\u001b[0;34m\"메인 쓰레드 ...\"\u001b[0m\u001b[0;34m)\u001b[0m\u001b[0;34m\u001b[0m\u001b[0;34m\u001b[0m\u001b[0m\n\u001b[0;32m---> 36\u001b[0;31m     \u001b[0mtime\u001b[0m\u001b[0;34m.\u001b[0m\u001b[0msleep\u001b[0m\u001b[0;34m(\u001b[0m\u001b[0;36m1\u001b[0m\u001b[0;34m)\u001b[0m\u001b[0;34m\u001b[0m\u001b[0;34m\u001b[0m\u001b[0m\n\u001b[0m\u001b[1;32m     37\u001b[0m \u001b[0;34m\u001b[0m\u001b[0m\n\u001b[1;32m     38\u001b[0m \u001b[0;31m# ps -ef로 프로세스 리스트를 확인할 수 있고\u001b[0m\u001b[0;34m\u001b[0m\u001b[0;34m\u001b[0m\u001b[0;34m\u001b[0m\u001b[0m\n",
      "\u001b[0;31mKeyboardInterrupt\u001b[0m: "
     ]
    }
   ],
   "source": [
    "import time\n",
    "import multiprocessing\n",
    "\n",
    "# 프로세스 함수는 메시지를 출력하고\n",
    "# 일정한 시간 간격으로 동작을 하도록 서포트한다.\n",
    "def process(message, interval):\n",
    "    while True:\n",
    "        print(\"블라블라 : %s\" % message)\n",
    "        time.sleep(interval)\n",
    "        \n",
    "# p1이라는 프로세를 만드는데 \n",
    "# 이 녀석에게 위에 def process 함수의 일을 시킬 것이다.\n",
    "# 그리고 파라미터(입력)로는 args = (\"p1\",1)을 전달할 것이다.\n",
    "p1 = multiprocessing.Process(target = process, args = (\"p1\", 1))\n",
    "p2 = multiprocessing.Process(target = process, args = (\"p2\", 3))\n",
    "p3 = multiprocessing.Process(target = process, args = (\"p3\", 5))\n",
    "p4 = multiprocessing.Process(target = process, args = (\"p4\", 2))\n",
    "\n",
    "\n",
    "p1.start()\n",
    "p2.start()\n",
    "p3.start()\n",
    "p4.start()\n",
    "\n",
    "\n",
    "cnt = 0\n",
    "\n",
    "while cnt < 100:\n",
    "    cnt += 1\n",
    "    # 메인 쓰레드가(부모 프로세스)\n",
    "    # 프로세스를 생성할 때는 부모 프로세스가 자식 프로세스를 관리하게 된다.\n",
    "    # ps -ef 명령으로 볼 때\n",
    "    # 부모 프로세스들은 모두 공통된 부모 프로세스를 가진다.\n",
    "    # 자신의 프로세스 ID와 PID, 부모의 프로세스 ID는 PPID\n",
    "    print(\"메인 쓰레드 ...\")\n",
    "    time.sleep(1)\n",
    "    \n",
    "# ps -ef로 프로세스 리스트를 확인할 수 있고\n",
    "# 확인된 프로세스중 강종하고 싶은것이 있으면\n",
    "# kill -9 PID숫자를 통해서 제거\n"
   ]
  },
  {
   "cell_type": "code",
   "execution_count": 16,
   "metadata": {},
   "outputs": [
    {
     "name": "stdout",
     "output_type": "stream",
     "text": [
      "100\n",
      "[0, 1, 4, 9, 16, 25, 36, 49, 64, 81]\n",
      "0\n",
      "1\n",
      "4\n",
      "None\n",
      "pass\n"
     ]
    },
    {
     "ename": "TimeoutError",
     "evalue": "",
     "output_type": "error",
     "traceback": [
      "\u001b[0;31m---------------------------------------------------------------------------\u001b[0m",
      "\u001b[0;31mTimeoutError\u001b[0m                              Traceback (most recent call last)",
      "\u001b[0;32m<ipython-input-16-3f7e80c33011>\u001b[0m in \u001b[0;36m<module>\u001b[0;34m\u001b[0m\n\u001b[1;32m     30\u001b[0m \u001b[0mprint\u001b[0m\u001b[0;34m(\u001b[0m\u001b[0;34m\"pass\"\u001b[0m\u001b[0;34m)\u001b[0m\u001b[0;34m\u001b[0m\u001b[0;34m\u001b[0m\u001b[0m\n\u001b[1;32m     31\u001b[0m \u001b[0mres\u001b[0m \u001b[0;34m=\u001b[0m \u001b[0mpool\u001b[0m\u001b[0;34m.\u001b[0m\u001b[0mapply_async\u001b[0m\u001b[0;34m(\u001b[0m\u001b[0mtime\u001b[0m\u001b[0;34m.\u001b[0m\u001b[0msleep\u001b[0m\u001b[0;34m,\u001b[0m \u001b[0;34m(\u001b[0m\u001b[0;36m10\u001b[0m\u001b[0;34m,\u001b[0m \u001b[0;34m)\u001b[0m\u001b[0;34m)\u001b[0m\u001b[0;34m\u001b[0m\u001b[0;34m\u001b[0m\u001b[0m\n\u001b[0;32m---> 32\u001b[0;31m \u001b[0mprint\u001b[0m\u001b[0;34m(\u001b[0m\u001b[0mres\u001b[0m\u001b[0;34m.\u001b[0m\u001b[0mget\u001b[0m\u001b[0;34m(\u001b[0m\u001b[0mtimeout\u001b[0m \u001b[0;34m=\u001b[0m \u001b[0;36m3\u001b[0m\u001b[0;34m)\u001b[0m\u001b[0;34m)\u001b[0m\u001b[0;34m\u001b[0m\u001b[0;34m\u001b[0m\u001b[0m\n\u001b[0m",
      "\u001b[0;32m~/anaconda3/lib/python3.7/multiprocessing/pool.py\u001b[0m in \u001b[0;36mget\u001b[0;34m(self, timeout)\u001b[0m\n\u001b[1;32m    651\u001b[0m         \u001b[0mself\u001b[0m\u001b[0;34m.\u001b[0m\u001b[0mwait\u001b[0m\u001b[0;34m(\u001b[0m\u001b[0mtimeout\u001b[0m\u001b[0;34m)\u001b[0m\u001b[0;34m\u001b[0m\u001b[0;34m\u001b[0m\u001b[0m\n\u001b[1;32m    652\u001b[0m         \u001b[0;32mif\u001b[0m \u001b[0;32mnot\u001b[0m \u001b[0mself\u001b[0m\u001b[0;34m.\u001b[0m\u001b[0mready\u001b[0m\u001b[0;34m(\u001b[0m\u001b[0;34m)\u001b[0m\u001b[0;34m:\u001b[0m\u001b[0;34m\u001b[0m\u001b[0;34m\u001b[0m\u001b[0m\n\u001b[0;32m--> 653\u001b[0;31m             \u001b[0;32mraise\u001b[0m \u001b[0mTimeoutError\u001b[0m\u001b[0;34m\u001b[0m\u001b[0;34m\u001b[0m\u001b[0m\n\u001b[0m\u001b[1;32m    654\u001b[0m         \u001b[0;32mif\u001b[0m \u001b[0mself\u001b[0m\u001b[0;34m.\u001b[0m\u001b[0m_success\u001b[0m\u001b[0;34m:\u001b[0m\u001b[0;34m\u001b[0m\u001b[0;34m\u001b[0m\u001b[0m\n\u001b[1;32m    655\u001b[0m             \u001b[0;32mreturn\u001b[0m \u001b[0mself\u001b[0m\u001b[0;34m.\u001b[0m\u001b[0m_value\u001b[0m\u001b[0;34m\u001b[0m\u001b[0;34m\u001b[0m\u001b[0m\n",
      "\u001b[0;31mTimeoutError\u001b[0m: "
     ]
    }
   ],
   "source": [
    "import time\n",
    "from multiprocessing import Pool\n",
    "\n",
    "def f(x):\n",
    "    return x * x\n",
    "\n",
    "# 프로세스들의 집합 장소를 만들어서 4개를 수용할 수 있도록 하였다.\n",
    "pool = Pool(processes = 4)\n",
    "\n",
    "\n",
    "\n",
    "# 이때 작업 전체는 비동기 처리가 이루어진다.\n",
    "# pool.apply_async()가 비동기 처리 작업을 지원한다.\n",
    "\n",
    "res = pool.apply_async(f, (10, ))\n",
    "# 1초안에 처리하지 못하면 에러!\n",
    "# 처리를 한다면 결과를 출력한다.\n",
    "print(res.get(timeout = 1))\n",
    "\n",
    "# 위에 def f라는 기능을 10번 작업하도록 한다.\n",
    "print(pool.map(f, range(10)))\n",
    "it = pool.imap(f, range(10))\n",
    "\n",
    "print(it.next())\n",
    "print(it.next())\n",
    "print(it.next(timeout = 2))\n",
    "\n",
    "res = pool.apply_async(time.sleep, (10, ))\n",
    "print(res.get(timeout = 60))\n",
    "print(\"pass\")\n",
    "# 10초간 슬립을 하는데 대기 시간은 3초이므로 에러가 발생!\n",
    "res = pool.apply_async(time.sleep, (10, ))\n",
    "print(res.get(timeout = 3))"
   ]
  },
  {
   "cell_type": "code",
   "execution_count": 5,
   "metadata": {},
   "outputs": [
    {
     "name": "stdout",
     "output_type": "stream",
     "text": [
      "Final Money = 19027\n",
      "Final Money = 20691\n",
      "Final Money = 27022\n",
      "Final Money = 14778\n",
      "Final Money = 17320\n",
      "Final Money = 24299\n",
      "Final Money = 19613\n",
      "Final Money = 24434\n",
      "Final Money = 16982\n",
      "Final Money = 17073\n"
     ]
    }
   ],
   "source": [
    "import multiprocessing as mp\n",
    "\n",
    "def withdraw(money):\n",
    "    for _ in range(20000):\n",
    "        money.value -= 1\n",
    "    \n",
    "def deposit(money):\n",
    "    for _ in range(20000):\n",
    "        money.value += 1\n",
    "        \n",
    "def perform_process():\n",
    "    # money는 크리티컬 섹션이 되었다.\n",
    "    money = mp.Value('i', 20000)\n",
    "    \n",
    "    p1 = mp.Process(target = withdraw, args = (money, ))\n",
    "    p2 = mp.Process(target = deposit, args = (money, ))\n",
    "    \n",
    "    p1.start()\n",
    "    p2.start()\n",
    "    \n",
    "    p1.join()\n",
    "    p2.join()\n",
    "    \n",
    "    print(\"Final Money = {}\".format(money.value))\n",
    "    \n",
    "for _ in range(10):\n",
    "    perform_process()"
   ]
  },
  {
   "cell_type": "code",
   "execution_count": 3,
   "metadata": {},
   "outputs": [
    {
     "name": "stdout",
     "output_type": "stream",
     "text": [
      "Final Money = 20000\n",
      "Final Money = 20000\n",
      "Final Money = 20000\n",
      "Final Money = 20000\n",
      "Final Money = 20000\n",
      "Final Money = 20000\n",
      "Final Money = 20000\n",
      "Final Money = 20000\n",
      "Final Money = 20000\n",
      "Final Money = 20000\n"
     ]
    }
   ],
   "source": [
    "import multiprocessing as mp\n",
    "\n",
    "# p1 프로세스의 작업 - 0.000000001\n",
    "def withdraw(money, lock):\n",
    "    for _ in range(20000):\n",
    "        # 자물쇠를 채운다(lock.acquire()).\n",
    "        # 자물쇠를 채웠으므로 아무도 여기에는 이제 들어오지 못한다.\n",
    "        # 들어오지 못하는 영역이 결국 크리티컬 섹션이다.\n",
    "        # 만약 자물쇠(락)가 채워진 상태에서 다른 녀석이\n",
    "        # 자물쇠(락)을 얻으려고 하면 접근하지 못하게 된다.\n",
    "        # (락이 풀릴때 까지 - lock.release())\n",
    "        lock.acquire()\n",
    "        money.value -= 1\n",
    "        lock.release()\n",
    "    \n",
    "# p2 프로세스의 작업 - 0.000000007\n",
    "def deposit(money, lock):\n",
    "    for _ in range(20000):\n",
    "        lock.acquire()\n",
    "        money.value += 1\n",
    "        lock.release()\n",
    "        \n",
    "def perform_process():\n",
    "    # money는 크리티컬 섹션이 되었다.\n",
    "    money = mp.Value('i', 20000)\n",
    "    # 크리티컬 섹션을 보호해주기 위한 락을 추가했다.\n",
    "    # 락을 남발하면 오히려 성능을 저하시킬 수 있다.\n",
    "    # 그러나 크리티컬 섹션에 대한 보호를 수행하는데 락을 반드시 사용해야 한다.\n",
    "    lock = mp.Lock()\n",
    "    \n",
    "    p1 = mp.Process(target = withdraw, args = (money, lock, ))\n",
    "    p2 = mp.Process(target = deposit, args = (money, lock, ))\n",
    "    \n",
    "    p1.start()\n",
    "    p2.start()\n",
    "    \n",
    "    p1.join()\n",
    "    p2.join()\n",
    "    \n",
    "    print(\"Final Money = {}\".format(money.value))\n",
    "    \n",
    "for _ in range(10):\n",
    "    perform_process()"
   ]
  },
  {
   "cell_type": "code",
   "execution_count": null,
   "metadata": {},
   "outputs": [],
   "source": [
    "# cpu는 한번에 한가지일만 한다!\n",
    "\n",
    "# 크리티컬섹션 >> 락을걸어줌으로써 크리티컬 섹션이 보호된다\n",
    "# 데이터의 무결성이 보장되냐 안되냐..\n",
    "\n",
    "# 성능은 떨어지지만 데이터의 안전성이 보장된다.\n",
    "\n",
    "# 크리티컬섹션을 보호할때 사용하는 섹션이 보통 2가지가 있다.\n",
    "# 1. spimlock vs semaphore\n",
    "\n",
    "# [spimlock] -> 단순한 작업\n",
    "# while 루프, 폴링\n",
    "\n",
    "# [semaphore] -> context switch / 복잡한 작업.\n",
    "# 비동기 처리 ex) 카톡 / 전화 : 동기처리"
   ]
  }
 ],
 "metadata": {
  "kernelspec": {
   "display_name": "Python 3",
   "language": "python",
   "name": "python3"
  },
  "language_info": {
   "codemirror_mode": {
    "name": "ipython",
    "version": 3
   },
   "file_extension": ".py",
   "mimetype": "text/x-python",
   "name": "python",
   "nbconvert_exporter": "python",
   "pygments_lexer": "ipython3",
   "version": "3.7.6"
  }
 },
 "nbformat": 4,
 "nbformat_minor": 4
}
