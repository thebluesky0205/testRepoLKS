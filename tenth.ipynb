{
 "cells": [
  {
   "cell_type": "code",
   "execution_count": null,
   "metadata": {},
   "outputs": [],
   "source": [
    "# 0706"
   ]
  },
  {
   "cell_type": "code",
   "execution_count": 10,
   "metadata": {},
   "outputs": [
    {
     "name": "stdout",
     "output_type": "stream",
     "text": [
      "[ 1  2  3  4  5  6  7  8  9 10]\n"
     ]
    }
   ],
   "source": [
    "import numpy as np\n",
    "vec1 = np.array([1,2,3,4,5,6,7,8,9,10])\n",
    "print(vec1)"
   ]
  },
  {
   "cell_type": "code",
   "execution_count": 11,
   "metadata": {},
   "outputs": [
    {
     "name": "stdout",
     "output_type": "stream",
     "text": [
      "[ 1  2  3  4  5  6  7  8  9 10]\n"
     ]
    }
   ],
   "source": [
    "vec1 = np.arange(1, 11)\n",
    "print(vec1)"
   ]
  },
  {
   "cell_type": "code",
   "execution_count": 12,
   "metadata": {},
   "outputs": [
    {
     "name": "stdout",
     "output_type": "stream",
     "text": [
      "[[ 1  2  3]\n",
      " [ 4  5  6]\n",
      " [ 7  8  9]\n",
      " [10 11 12]]\n"
     ]
    }
   ],
   "source": [
    "mat1 = np.array([\n",
    "    [1,2,3],\n",
    "    [4,5,6],\n",
    "    [7,8,9],\n",
    "    [10,11,12]]\n",
    ")\n",
    "print(mat1)"
   ]
  },
  {
   "cell_type": "code",
   "execution_count": 13,
   "metadata": {},
   "outputs": [
    {
     "name": "stdout",
     "output_type": "stream",
     "text": [
      "[[ 1  2  3]\n",
      " [ 4  5  6]\n",
      " [ 7  8  9]\n",
      " [10 11 12]]\n",
      "(4, 3)\n"
     ]
    }
   ],
   "source": [
    "mat2 = np.matrix([\n",
    "    [1,2,3],\n",
    "    [4,5,6],\n",
    "    [7,8,9],\n",
    "    [10,11,12]]\n",
    ")\n",
    "print(mat2)\n",
    "print(mat2.shape)"
   ]
  },
  {
   "cell_type": "code",
   "execution_count": 14,
   "metadata": {},
   "outputs": [
    {
     "name": "stdout",
     "output_type": "stream",
     "text": [
      "[[1 2 3]\n",
      " [4 5 6]\n",
      " [7 8 9]]\n",
      "[[ 1  2  3]\n",
      " [ 4  5  6]\n",
      " [10 11 12]]\n"
     ]
    }
   ],
   "source": [
    "mat3 = np.array([\n",
    "    [1,2,3],\n",
    "    [4,5,6],\n",
    "    [7,8,9]]\n",
    ")\n",
    "print(mat3)\n",
    "\n",
    "mat4 = np.array([\n",
    "    [1,2,3],\n",
    "    [4,5,6],\n",
    "    [10,11,12]]\n",
    ")\n",
    "print(mat4)"
   ]
  },
  {
   "cell_type": "code",
   "execution_count": 15,
   "metadata": {},
   "outputs": [
    {
     "name": "stdout",
     "output_type": "stream",
     "text": [
      "[[  1   4   9]\n",
      " [ 16  25  36]\n",
      " [ 70  88 108]]\n"
     ]
    }
   ],
   "source": [
    "mat5 = mat3 * mat4\n",
    "print(mat5)"
   ]
  },
  {
   "cell_type": "code",
   "execution_count": 16,
   "metadata": {},
   "outputs": [],
   "source": [
    "# 행렬 연산의 규칙\n",
    "# 행렬의 행과 열로 구성된다.\n",
    "# 행렬의 곱셈을 수행하기 위한 최소한의 규칙\n",
    "# m by n 행렬을 곱하려면 n by x가 되어야 한다.\n",
    "# 두행렬의 곱셈 결과는 m by x가 된다."
   ]
  },
  {
   "cell_type": "code",
   "execution_count": 17,
   "metadata": {},
   "outputs": [
    {
     "name": "stdout",
     "output_type": "stream",
     "text": [
      "[[ 1  4  7 10]\n",
      " [ 2  5  8 11]\n",
      " [ 3  6  9 12]]\n",
      "\n",
      "[[ 1  2  3]\n",
      " [ 4  5  6]\n",
      " [ 7  8  9]\n",
      " [10 11 12]]\n"
     ]
    }
   ],
   "source": [
    "print(mat1.T)\n",
    "print(\"\")\n",
    "print(mat1)"
   ]
  },
  {
   "cell_type": "code",
   "execution_count": 18,
   "metadata": {},
   "outputs": [
    {
     "name": "stdout",
     "output_type": "stream",
     "text": [
      "[[166 188 210]\n",
      " [188 214 240]\n",
      " [210 240 270]]\n"
     ]
    }
   ],
   "source": [
    "# 3  by 4 * 4 by 3 => 3 by 3\n",
    "mat5 = mat1.T * mat2\n",
    "print(mat5)"
   ]
  },
  {
   "cell_type": "code",
   "execution_count": 19,
   "metadata": {},
   "outputs": [
    {
     "name": "stdout",
     "output_type": "stream",
     "text": [
      "(10,)\n"
     ]
    }
   ],
   "source": [
    "print(vec1.shape)"
   ]
  },
  {
   "cell_type": "code",
   "execution_count": 20,
   "metadata": {},
   "outputs": [
    {
     "name": "stdout",
     "output_type": "stream",
     "text": [
      "[[ 0  2  4]\n",
      " [ 6  8 10]]\n",
      "\n",
      "(2, 3)\n"
     ]
    }
   ],
   "source": [
    "smartMat = np.arange(0, 11, 2).reshape((2, 3))\n",
    "\n",
    "print(smartMat)\n",
    "print(\"\")\n",
    "print(smartMat.shape)"
   ]
  },
  {
   "cell_type": "code",
   "execution_count": 21,
   "metadata": {},
   "outputs": [
    {
     "name": "stdout",
     "output_type": "stream",
     "text": [
      "[[ 5  6  7]\n",
      " [ 8  9 10]\n",
      " [11 12 13]\n",
      " [14 15 16]]\n"
     ]
    }
   ],
   "source": [
    "test = mat1 + 4\n",
    "print(test)"
   ]
  },
  {
   "cell_type": "code",
   "execution_count": 22,
   "metadata": {},
   "outputs": [
    {
     "name": "stdout",
     "output_type": "stream",
     "text": [
      "[[ 1  2  3  4]\n",
      " [ 5  6  7  8]\n",
      " [ 9 10 11 12]]\n",
      "(3, 4)\n"
     ]
    }
   ],
   "source": [
    "smartMat2 = np.arange(1, 13).reshape((3, 4))\n",
    "\n",
    "print(smartMat2)\n",
    "print(smartMat2.shape)"
   ]
  },
  {
   "cell_type": "code",
   "execution_count": 23,
   "metadata": {},
   "outputs": [
    {
     "name": "stdout",
     "output_type": "stream",
     "text": [
      "[ 1  2  3  4  5  6  7  8  9 10 11 12]\n"
     ]
    }
   ],
   "source": [
    "# 차원 변환이 필요한 경우가 있음 - 가우스-조르단 소거법\n",
    "\n",
    "mat1 = mat1.reshape(12)\n",
    "\n",
    "print(mat1)"
   ]
  },
  {
   "cell_type": "code",
   "execution_count": 24,
   "metadata": {},
   "outputs": [
    {
     "name": "stdout",
     "output_type": "stream",
     "text": [
      "12\n"
     ]
    }
   ],
   "source": [
    "print(len(mat1))"
   ]
  },
  {
   "cell_type": "code",
   "execution_count": 25,
   "metadata": {},
   "outputs": [
    {
     "name": "stdout",
     "output_type": "stream",
     "text": [
      "[[[ 1  2]\n",
      "  [ 3  4]]\n",
      "\n",
      " [[ 5  6]\n",
      "  [ 7  8]]\n",
      "\n",
      " [[ 9 10]\n",
      "  [11 12]]]\n"
     ]
    }
   ],
   "source": [
    "# 텐서를 해석하는 방법\n",
    "# 맨 앞의 숫자가 큰 집합의 개수를 의미함\n",
    "# 뒤쪽의 2개는 행렬의 모양을 의미\n",
    "# 즉 뒤쪽에 2개를 통해 행렬의 모양을 잡고\n",
    "# 맨 앞의 숫자를 통해 해당 행렬이 몇 개 있는지 파악하면 된다.\n",
    "ten2 = mat1.reshape((3, 2, 2))\n",
    "\n",
    "print(ten2)"
   ]
  },
  {
   "cell_type": "code",
   "execution_count": 26,
   "metadata": {},
   "outputs": [
    {
     "name": "stdout",
     "output_type": "stream",
     "text": [
      "[ 1  2  3  4  5  6  7  8  9 10 11 12]\n"
     ]
    }
   ],
   "source": [
    "print(mat1)"
   ]
  },
  {
   "cell_type": "code",
   "execution_count": 27,
   "metadata": {},
   "outputs": [
    {
     "name": "stdout",
     "output_type": "stream",
     "text": [
      "[[[1 2 3]\n",
      "  [4 5 6]]\n",
      "\n",
      " [[1 2 3]\n",
      "  [4 5 6]]]\n"
     ]
    }
   ],
   "source": [
    "ret = np.matrix(np.arange(1, 7)).reshape((2, 3))\n",
    "\n",
    "ten3 = np.array([\n",
    "    ret,  ret\n",
    "])\n",
    "\n",
    "print(ten3)"
   ]
  },
  {
   "cell_type": "code",
   "execution_count": 28,
   "metadata": {},
   "outputs": [
    {
     "name": "stdout",
     "output_type": "stream",
     "text": [
      "[[[1 1]\n",
      "  [4 4]]\n",
      "\n",
      " [[2 2]\n",
      "  [5 5]]\n",
      "\n",
      " [[3 3]\n",
      "  [6 6]]]\n",
      "(3, 2, 2)\n"
     ]
    }
   ],
   "source": [
    "print(ten3.T)\n",
    "print(ten3.T.shape)"
   ]
  },
  {
   "cell_type": "code",
   "execution_count": 29,
   "metadata": {},
   "outputs": [
    {
     "name": "stdout",
     "output_type": "stream",
     "text": [
      "[[[[  9  12  15]\n",
      "   [  9  12  15]]\n",
      "\n",
      "  [[ 19  26  33]\n",
      "   [ 19  26  33]]]\n",
      "\n",
      "\n",
      " [[[ 29  40  51]\n",
      "   [ 29  40  51]]\n",
      "\n",
      "  [[ 39  54  69]\n",
      "   [ 39  54  69]]]\n",
      "\n",
      "\n",
      " [[[ 49  68  87]\n",
      "   [ 49  68  87]]\n",
      "\n",
      "  [[ 59  82 105]\n",
      "   [ 59  82 105]]]]\n"
     ]
    }
   ],
   "source": [
    "ten4 = ten2.dot(ten3)\n",
    "\n",
    "print(ten4)"
   ]
  },
  {
   "cell_type": "code",
   "execution_count": 35,
   "metadata": {},
   "outputs": [
    {
     "name": "stdout",
     "output_type": "stream",
     "text": [
      "[[1 2]\n",
      " [3 4]]\n",
      "[[1 2]\n",
      " [3 4]]\n",
      "[[ 1  4]\n",
      " [ 9 16]]\n",
      "[[ 7 10]\n",
      " [15 22]]\n"
     ]
    }
   ],
   "source": [
    "testMat1 = np.arange(1, 5).reshape((2, 2))\n",
    "testMat2 = np.arange(1, 5).reshape((2, 2))\n",
    "\n",
    "print(testMat1)\n",
    "print(testMat2)\n",
    "print(testMat1 * testMat2)\n",
    "print(testMat1.dot(testMat2))\n"
   ]
  },
  {
   "cell_type": "code",
   "execution_count": 36,
   "metadata": {},
   "outputs": [
    {
     "name": "stdout",
     "output_type": "stream",
     "text": [
      "[[[[  9  12  15]\n",
      "   [  9  12  15]]\n",
      "\n",
      "  [[ 19  26  33]\n",
      "   [ 19  26  33]]]\n",
      "\n",
      "\n",
      " [[[ 29  40  51]\n",
      "   [ 29  40  51]]\n",
      "\n",
      "  [[ 39  54  69]\n",
      "   [ 39  54  69]]]\n",
      "\n",
      "\n",
      " [[[ 49  68  87]\n",
      "   [ 49  68  87]]\n",
      "\n",
      "  [[ 59  82 105]\n",
      "   [ 59  82 105]]]]\n"
     ]
    }
   ],
   "source": [
    "ten4 = ten2.dot(ten3)\n",
    "\n",
    "print(ten4)"
   ]
  },
  {
   "cell_type": "code",
   "execution_count": 38,
   "metadata": {},
   "outputs": [],
   "source": [
    "# pip install tensorflow"
   ]
  },
  {
   "cell_type": "code",
   "execution_count": 40,
   "metadata": {},
   "outputs": [],
   "source": [
    "from keras.models import Sequential\n",
    "\n",
    "model = Sequential()\n",
    "\n",
    "# 합성곱 = 콘볼루션(Convolution), 컨벌루션"
   ]
  },
  {
   "cell_type": "code",
   "execution_count": 41,
   "metadata": {},
   "outputs": [],
   "source": [
    "#from keras.layers import Dense\n",
    "#from keras.models import Sequential\n",
    "#input_shape = 20\n",
    "#units = 1\n",
    "#model.add(Dense(units, input_dim=))"
   ]
  },
  {
   "cell_type": "code",
   "execution_count": 81,
   "metadata": {},
   "outputs": [
    {
     "name": "stdout",
     "output_type": "stream",
     "text": [
      "Lesson01  Lesson03  Lesson05  Lesson07\tLesson09  README.md\r\n",
      "Lesson02  Lesson04  Lesson06  Lesson08\tLICENSE\r\n"
     ]
    }
   ],
   "source": [
    "!ls Applied-Deep-Learning-with-Keras/"
   ]
  },
  {
   "cell_type": "code",
   "execution_count": 84,
   "metadata": {},
   "outputs": [],
   "source": [
    "import pandas as pd\n",
    "feats = pd.read_csv (\n",
    "    'Applied-Deep-Learning-with-Keras/' +\n",
    "    'Lesson01/data/bank_data_feats_e3.csv',\n",
    "    index_col = 0\n",
    ")\n",
    "target = pd.read_csv (\n",
    "    'Applied-Deep-Learning-with-Keras/' +\n",
    "    'Lesson01/data/bank_data_target_e2.csv',\n",
    "    index_col = 0\n",
    ")\n"
   ]
  },
  {
   "cell_type": "code",
   "execution_count": 85,
   "metadata": {},
   "outputs": [],
   "source": [
    "from sklearn.model_selection import train_test_split\n",
    "test_size = 0.2\n",
    "random_state = 42\n",
    "\n",
    "X_train, X_test, y_train, y_test = train_test_split(\n",
    "    feats, target, test_size=test_size, random_state=random_state\n",
    ")"
   ]
  },
  {
   "cell_type": "code",
   "execution_count": 86,
   "metadata": {},
   "outputs": [],
   "source": [
    "from keras.models import Sequential\n",
    "\n",
    "model = Sequential()\n",
    "\n",
    "# 합성곱 = 콘볼루션(Convolution), 컨벌루션"
   ]
  },
  {
   "cell_type": "code",
   "execution_count": 87,
   "metadata": {},
   "outputs": [],
   "source": [
    "from keras.layers import Dense, Activation\n",
    "from keras.models import Sequential\n",
    "input_shape = X_train.shape[1]\n",
    "units = 1\n",
    "model.add(Dense(units, input_dim = input_shape))\n",
    "model.add(Activation('tanh'))"
   ]
  },
  {
   "cell_type": "code",
   "execution_count": 88,
   "metadata": {},
   "outputs": [],
   "source": [
    "model.compile(\n",
    "    optimizer = 'adam',\n",
    "    loss = 'binary_crossentropy',\n",
    "    metrics = ['accuracy']\n",
    ")"
   ]
  },
  {
   "cell_type": "code",
   "execution_count": 90,
   "metadata": {},
   "outputs": [
    {
     "name": "stdout",
     "output_type": "stream",
     "text": [
      "Model: \"sequential_3\"\n",
      "_________________________________________________________________\n",
      "Layer (type)                 Output Shape              Param #   \n",
      "=================================================================\n",
      "dense_5 (Dense)              (None, 1)                 33        \n",
      "_________________________________________________________________\n",
      "activation_5 (Activation)    (None, 1)                 0         \n",
      "=================================================================\n",
      "Total params: 33\n",
      "Trainable params: 33\n",
      "Non-trainable params: 0\n",
      "_________________________________________________________________\n",
      "None\n"
     ]
    }
   ],
   "source": [
    "print(model.summary())"
   ]
  },
  {
   "cell_type": "code",
   "execution_count": 89,
   "metadata": {},
   "outputs": [
    {
     "name": "stdout",
     "output_type": "stream",
     "text": [
      "Epoch 1/10\n",
      "91/91 [==============================] - 0s 3ms/step - loss: 1.8500 - accuracy: 0.8797 - val_loss: 1.6405 - val_accuracy: 0.8936\n",
      "Epoch 2/10\n",
      "91/91 [==============================] - 0s 885us/step - loss: 1.8463 - accuracy: 0.8800 - val_loss: 1.6405 - val_accuracy: 0.8936\n",
      "Epoch 3/10\n",
      "91/91 [==============================] - 0s 833us/step - loss: 1.8459 - accuracy: 0.8800 - val_loss: 1.6405 - val_accuracy: 0.8936\n",
      "Epoch 4/10\n",
      "91/91 [==============================] - 0s 811us/step - loss: 1.8455 - accuracy: 0.8804 - val_loss: 1.6405 - val_accuracy: 0.8936\n",
      "Epoch 5/10\n",
      "91/91 [==============================] - 0s 811us/step - loss: 1.8454 - accuracy: 0.8804 - val_loss: 1.6405 - val_accuracy: 0.8936\n",
      "Epoch 6/10\n",
      "91/91 [==============================] - 0s 827us/step - loss: 1.8454 - accuracy: 0.8804 - val_loss: 1.6405 - val_accuracy: 0.8936\n",
      "Epoch 7/10\n",
      "91/91 [==============================] - 0s 834us/step - loss: 1.8454 - accuracy: 0.8804 - val_loss: 1.6405 - val_accuracy: 0.8936\n",
      "Epoch 8/10\n",
      "91/91 [==============================] - 0s 850us/step - loss: 1.8454 - accuracy: 0.8804 - val_loss: 1.6405 - val_accuracy: 0.8936\n",
      "Epoch 9/10\n",
      "91/91 [==============================] - 0s 848us/step - loss: 1.8454 - accuracy: 0.8804 - val_loss: 1.6405 - val_accuracy: 0.8936\n",
      "Epoch 10/10\n",
      "91/91 [==============================] - 0s 868us/step - loss: 1.8454 - accuracy: 0.8804 - val_loss: 1.6405 - val_accuracy: 0.8936\n"
     ]
    }
   ],
   "source": [
    "history = model.fit(\n",
    "    x=X_train, y=y_train['y'],\n",
    "    epochs = 10, \n",
    "    batch_size = 32, \n",
    "    validation_split = 0.2\n",
    "\n",
    ")"
   ]
  },
  {
   "cell_type": "code",
   "execution_count": 92,
   "metadata": {},
   "outputs": [
    {
     "name": "stdout",
     "output_type": "stream",
     "text": [
      "{'loss': [1.8500211238861084, 1.8463401794433594, 1.8458510637283325, 1.8454962968826294, 1.8454468250274658, 1.8454469442367554, 1.8454469442367554, 1.8454469442367554, 1.8454468250274658, 1.8454463481903076], 'accuracy': [0.8796680569648743, 0.8800138235092163, 0.8800138235092163, 0.8803595900535583, 0.8803595900535583, 0.8803595900535583, 0.8803595900535583, 0.8803595900535583, 0.8803595900535583, 0.8803595900535583], 'val_loss': [1.6404985189437866, 1.6404985189437866, 1.6404985189437866, 1.6404985189437866, 1.6404985189437866, 1.6404985189437866, 1.6404985189437866, 1.6404985189437866, 1.6404985189437866, 1.6404985189437866], 'val_accuracy': [0.8936464190483093, 0.8936464190483093, 0.8936464190483093, 0.8936464190483093, 0.8936464190483093, 0.8936464190483093, 0.8936464190483093, 0.8936464190483093, 0.8936464190483093, 0.8936464190483093]}\n"
     ]
    }
   ],
   "source": [
    "print(history.history)"
   ]
  },
  {
   "cell_type": "code",
   "execution_count": 95,
   "metadata": {},
   "outputs": [
    {
     "data": {
      "image/png": "[encoded data removed]",
      "text/plain": [
       "<Figure size 432x288 with 1 Axes>"
      ]
     },
     "metadata": {
      "needs_background": "light"
     },
     "output_type": "display_data"
    },
    {
     "data": {
      "image/png": "[encoded data removed]",
      "text/plain": [
       "<Figure size 432x288 with 1 Axes>"
      ]
     },
     "metadata": {
      "needs_background": "light"
     },
     "output_type": "display_data"
    }
   ],
   "source": [
    "import matplotlib.pyplot as plt\n",
    "\n",
    "plt.plot(history.history['accuracy'])\n",
    "plt.plot(history.history['val_accuracy'])\n",
    "plt.title('Model accuracy')\n",
    "plt.ylabel('Accuracy')\n",
    "plt.xlabel('Loop')\n",
    "plt.legend(['Train', ' Validation',], loc = 'upper left')\n",
    "plt.show()\n",
    "\n",
    "plt.plot(history.history['loss'])\n",
    "plt.plot(history.history['val_loss'])\n",
    "plt.title('Model accuracy')\n",
    "plt.ylabel('Accuracy')\n",
    "plt.xlabel('Loop')\n",
    "plt.legend(['Train', ' Validation',], loc = 'upper left')\n",
    "plt.show()"
   ]
  },
  {
   "cell_type": "code",
   "execution_count": null,
   "metadata": {},
   "outputs": [],
   "source": []
  },
  {
   "cell_type": "code",
   "execution_count": null,
   "metadata": {},
   "outputs": [],
   "source": []
  }
 ],
 "metadata": {
  "kernelspec": {
   "display_name": "Python 3",
   "language": "python",
   "name": "python3"
  },
  "language_info": {
   "codemirror_mode": {
    "name": "ipython",
    "version": 3
   },
   "file_extension": ".py",
   "mimetype": "text/x-python",
   "name": "python",
   "nbconvert_exporter": "python",
   "pygments_lexer": "ipython3",
   "version": "3.7.6"
  }
 },
 "nbformat": 4,
 "nbformat_minor": 4
}
