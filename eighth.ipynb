{
 "cells": [
  {
   "cell_type": "code",
   "execution_count": 1,
   "metadata": {},
   "outputs": [],
   "source": [
    "# 현재 구동되고 있는 MySQL 서버 프로세스를 확인하는 방법\n",
    "# ps -ef / grep mysql\n",
    "\n",
    "# 쓸모없는 정보가 같이 나오는데 걸러내는 방법\n",
    "# ps -ef\n",
    "\n",
    "# netstat 명령어를 사용하기 위해 필요한 SW툴\n",
    "# sudo apt-get install net-tools\n",
    "\n",
    "# 현재 구동중인 네트워크 서비스들을 확인해볼 수 있다.\n",
    "# sudo netstat -ntlp | grep mysql\n",
    "\n",
    "# 127.0.0.1:3306\n",
    "# 일반적으로 127.0.0.1"
   ]
  },
  {
   "cell_type": "code",
   "execution_count": 2,
   "metadata": {},
   "outputs": [
    {
     "name": "stdout",
     "output_type": "stream",
     "text": [
      "Table Creation Success\n"
     ]
    }
   ],
   "source": [
    "# pip install pymysql\n",
    "import pymysql\n",
    "\n",
    "# mysql -u bitai -p 비밀번호\n",
    "# 위의 명령을 프로그래밍 버전으로 변형한 것임\n",
    "db = pymysql.connect(\n",
    "    # 접속할 컴퓨터의 주소\n",
    "    host = '127.0.0.1',\n",
    "    # 현재 구동중인 MySQL의 포트(서비스) 번호\n",
    "    port = 3306,\n",
    "    # 계정 이름\n",
    "    user = 'bitai',\n",
    "    # 비밀 번호\n",
    "    passwd = '456123',\n",
    "    # 사용하려는 스키마\n",
    "    db = 'pydb'\n",
    ")\n",
    "\n",
    "# 후에 select 등을 했을때\n",
    "# 결과를 하나 하나 커서를 내려가며 순회할 수 있는 녀석\n",
    "cursor = db.cursor()\n",
    "\n",
    "# 실제 MySQL에서 사용하는 DB Query 문임\n",
    "# create table 테이블명(원하는 필드와 원하는 타입을 작성)\n",
    "# auto_increment는 자동 증가\n",
    "# unsigned란 부호가 없다는 의미(즉 양수만 취급)\n",
    "# varchar는 문자를 저장할 수 있는 배열\n",
    "# primary key는 대표 키를 설정하는 키워드\n",
    "sql = \"\"\"\n",
    "    create table pydbtest(\n",
    "        id int unsigned not null auto_increment,\n",
    "        name varchar(20) not null,\n",
    "        price int not null,\n",
    "        primary key(id)\n",
    "    )\n",
    "\"\"\"\n",
    "\n",
    "# 위의 SQL Query를 실행하는 코드\n",
    "# 작업을 메모리 상에서 해놓고 메모리에 올려놓고 있음\n",
    "cursor.execute(sql)\n",
    "\n",
    "# DB에 실제 내용을 갱신하는 코드\n",
    "# 실제 이부분은 I/O로 작업을 내리는 과정\n",
    "db.commit()\n",
    "\n",
    "# 왜 실행하자마자 적용되지 않고 commit()이란 것이 별도로 있나요 ?\n",
    "# 파이썬에서 join()을 배웠었는데 같은 이유다.\n",
    "# 결론적으로 컴퓨터의 성능은 I/O와 직결된다.\n",
    "\n",
    "# 작업을 완료했으므로 DB 연결을 끊는다.\n",
    "db.close()\n",
    "\n",
    "print(\"Table Creation Success\")"
   ]
  },
  {
   "cell_type": "code",
   "execution_count": 3,
   "metadata": {},
   "outputs": [],
   "source": [
    "# 위의 코드를 통해서 pydb 스키마에\n",
    "# pydbtest라는 테이블을 생성하였다.\n",
    "# 확인은 아래와 같이 하면 된다.\n",
    "# mysql -u bitai -p\n",
    "\n",
    "# MySQL에 접속해서\n",
    "# use pydb;\n",
    "# show tables;\n",
    "# 위의 명령을 수행하면 방금만든 pydbtest 테이블을 볼 수 있을 것이다.\n",
    "\n",
    "# 내부의 내용을 살펴보고자 한다면\n",
    "# describe pydbtest;"
   ]
  },
  {
   "cell_type": "code",
   "execution_count": null,
   "metadata": {},
   "outputs": [],
   "source": []
  }
 ],
 "metadata": {
  "kernelspec": {
   "display_name": "Python 3",
   "language": "python",
   "name": "python3"
  },
  "language_info": {
   "codemirror_mode": {
    "name": "ipython",
    "version": 3
   },
   "file_extension": ".py",
   "mimetype": "text/x-python",
   "name": "python",
   "nbconvert_exporter": "python",
   "pygments_lexer": "ipython3",
   "version": "3.7.6"
  }
 },
 "nbformat": 4,
 "nbformat_minor": 4
}
