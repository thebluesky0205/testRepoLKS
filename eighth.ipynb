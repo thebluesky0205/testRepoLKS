{
 "cells": [
  {
   "cell_type": "code",
   "execution_count": null,
   "metadata": {},
   "outputs": [],
   "source": [
    "# 현재 구동되고 있는 MySQL 서버 프로세스를 확인하는 방법\n",
    "# ps -ef / grep mysql\n",
    "\n",
    "# 쓸모없는 정보가 같이 나오는데 걸러내는 방법\n",
    "# ps -ef\n",
    "\n",
    "# netstat 명령어를 사용하기 위해 필요한 SW툴\n",
    "# sudo apt-get install net-tools\n",
    "\n",
    "# 현재 구동중인 네트워크 서비스들을 확인해볼 수 있다.\n",
    "# sudo netstat -ntlp | grep mysql\n",
    "\n",
    "# 127.0.0.1:3306\n",
    "# 일반적으로 127.0.0.1"
   ]
  }
 ],
 "metadata": {
  "kernelspec": {
   "display_name": "Python 3",
   "language": "python",
   "name": "python3"
  },
  "language_info": {
   "codemirror_mode": {
    "name": "ipython",
    "version": 3
   },
   "file_extension": ".py",
   "mimetype": "text/x-python",
   "name": "python",
   "nbconvert_exporter": "python",
   "pygments_lexer": "ipython3",
   "version": "3.7.6"
  }
 },
 "nbformat": 4,
 "nbformat_minor": 4
}
